{
 "cells": [
  {
   "cell_type": "code",
   "execution_count": 49,
   "metadata": {
    "id": "hvHJ18iz6bre"
   },
   "outputs": [],
   "source": [
    "# -*- coding: utf-8 -*-\n",
    "# Example of making predictions\n",
    "from math import sqrt\n",
    "# calculate the Euclidean distance between two vectors\n",
    "#     Euclidean Distance = sqrt(sum i to N (x1_i – x2_i)^2)\n",
    "\n",
    "#result:\n",
    "#9.486832980505138\n",
    "#9.1104335791443\n",
    "#9.486832980505138\n",
    "#8.06225774829855\n",
    "#2.449489742783178\n",
    "#2.6457513110645907\n",
    "#3.1622776601683795\n",
    "#2.449489742783178\n",
    "\n",
    "def euclidean_distance(row1, row2):\n",
    "\tdistance = 0.0\n",
    "\tfor i in range(len(row1)-1):\n",
    "\t\tdistance += (row1[i] - row2[i])**2\n",
    "\n",
    "\treturn sqrt(distance)"
   ]
  },
  {
   "cell_type": "code",
   "execution_count": 50,
   "metadata": {
    "id": "8TYW3HTzn4Eg"
   },
   "outputs": [],
   "source": [
    "# Locate the most similar neighbors\n",
    "# Result\n",
    "# [6, 5, 7, 5, 6, 7, 1]\n",
    "# [7, 6, 7, 6, 5, 6, 1]\n",
    "# [5, 6, 6, 6, 5, 7, 1]"
   ]
  },
  {
   "cell_type": "code",
   "execution_count": 51,
   "metadata": {
    "id": "IaehHg3SfQBl"
   },
   "outputs": [],
   "source": [
    "def get_neighbors(train, test_row, num_neighbors):\n",
    "\tdistances = list()\n",
    "\tfor train_row in train:\n",
    "\t\tdist = euclidean_distance(test_row, train_row)\n",
    "\t\tdistances.append((train_row, dist))\n",
    "\tdistances.sort(key=lambda tup: tup[1])\n",
    "\tneighbors = list()\n",
    "\tfor i in range(num_neighbors):\n",
    "\t\tneighbors.append(distances[i][0])\n",
    "\treturn neighbors"
   ]
  },
  {
   "cell_type": "code",
   "execution_count": 52,
   "metadata": {
    "id": "7JHkNlvj3eoz"
   },
   "outputs": [],
   "source": [
    "# Make a classification prediction with neighbors\n",
    "# - test_row is [7,6,5,5,6,7]\n",
    "# - num_neighbors is 3"
   ]
  },
  {
   "cell_type": "code",
   "execution_count": 53,
   "metadata": {
    "id": "fGWbQ4AGfs9R"
   },
   "outputs": [],
   "source": [
    "def predict_classification(train, test_row, num_neighbors):\n",
    "\tneighbors = get_neighbors(train, test_row, num_neighbors)\n",
    "\toutput_values = [row[-1] for row in neighbors]\n",
    "\tprediction = max(set(output_values), key=output_values.count)\n",
    "\treturn prediction"
   ]
  },
  {
   "cell_type": "code",
   "execution_count": 54,
   "metadata": {
    "id": "AEGb4USu3jnL"
   },
   "outputs": [],
   "source": [
    "# Test distance function"
   ]
  },
  {
   "cell_type": "code",
   "execution_count": 55,
   "metadata": {
    "id": "y5NbSCtYlKXw"
   },
   "outputs": [],
   "source": [
    "dataset = [[1,2,3,2,1,3,0],\n",
    "\t[2,1,3,3,1,2,0],\n",
    "\t[1,1,2,3,2,2,0],\n",
    "\t[2,2,3,3,2,1,0],\n",
    "\t[6,5,7,5,6,7,1],\n",
    "\t[5,6,6,6,5,7,1],\n",
    "\t[5,6,7,6,5,6,1],\n",
    "\t[7,6,7,6,5,6,1]]"
   ]
  },
  {
   "cell_type": "code",
   "execution_count": 56,
   "metadata": {
    "colab": {
     "base_uri": "https://localhost:8080/"
    },
    "id": "E5ne7J023l5G",
    "outputId": "c8bc340b-529c-4fbf-edad-a72717f76696"
   },
   "outputs": [
    {
     "name": "stdout",
     "output_type": "stream",
     "text": [
      "Expected 1, Got 1.\n"
     ]
    }
   ],
   "source": [
    "prediction = predict_classification(dataset, [7,6,5,5,6,7], 3)\n",
    "# - Display\n",
    "# Expected 0, Got 1.\n",
    "print('Expected %d, Got %d.' % ([7,6,5,5,6,7,1][-1], prediction))"
   ]
  }
 ],
 "metadata": {
  "colab": {
   "name": "Knn.ipynb",
   "provenance": []
  },
  "kernelspec": {
   "display_name": "Python 3",
   "language": "python",
   "name": "python3"
  },
  "language_info": {
   "codemirror_mode": {
    "name": "ipython",
    "version": 3
   },
   "file_extension": ".py",
   "mimetype": "text/x-python",
   "name": "python",
   "nbconvert_exporter": "python",
   "pygments_lexer": "ipython3",
   "version": "3.9.5"
  }
 },
 "nbformat": 4,
 "nbformat_minor": 1
}
