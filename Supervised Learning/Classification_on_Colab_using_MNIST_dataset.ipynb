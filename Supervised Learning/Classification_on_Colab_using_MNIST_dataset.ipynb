{
  "nbformat": 4,
  "nbformat_minor": 0,
  "metadata": {
    "colab": {
      "name": "Classification on Colab using MNIST dataset.ipynb",
      "provenance": [],
      "include_colab_link": true
    },
    "kernelspec": {
      "display_name": "Python 3",
      "language": "python",
      "name": "python3"
    },
    "language_info": {
      "codemirror_mode": {
        "name": "ipython",
        "version": 3
      },
      "file_extension": ".py",
      "mimetype": "text/x-python",
      "name": "python",
      "nbconvert_exporter": "python",
      "pygments_lexer": "ipython3",
      "version": "3.7.10"
    },
    "nav_menu": {},
    "toc": {
      "navigate_menu": true,
      "number_sections": true,
      "sideBar": true,
      "threshold": 6,
      "toc_cell": false,
      "toc_section_display": "block",
      "toc_window_display": false
    }
  },
  "cells": [
    {
      "cell_type": "markdown",
      "metadata": {
        "id": "view-in-github",
        "colab_type": "text"
      },
      "source": [
        "<a href=\"https://colab.research.google.com/github/averynionio/Machine-Learning/blob/main/Supervised%20Learning/Classification_on_Colab_using_MNIST_dataset.ipynb\" target=\"_parent\"><img src=\"https://colab.research.google.com/assets/colab-badge.svg\" alt=\"Open In Colab\"/></a>"
      ]
    },
    {
      "cell_type": "markdown",
      "metadata": {
        "id": "gOqbAeli9kiJ"
      },
      "source": [
        "First, let's import a few common modules, ensure MatplotLib plots figures inline and prepare a function to save the figures. We also check that Python 3.5 or later is installed (although Python 2.x may work, it is deprecated so we strongly recommend you use Python 3 instead), as well as Scikit-Learn ≥0.20."
      ]
    },
    {
      "cell_type": "code",
      "metadata": {
        "id": "dP9uXjkT9kiJ"
      },
      "source": [
        "# Python ≥3.5 is required\n",
        "import sys\n",
        "assert sys.version_info >= (3, 5)\n",
        "\n",
        "# Is this notebook running on Colab or Kaggle?\n",
        "IS_COLAB = \"google.colab\" in sys.modules\n",
        "IS_KAGGLE = \"kaggle_secrets\" in sys.modules\n",
        "\n",
        "# Scikit-Learn ≥0.20 is required\n",
        "import sklearn\n",
        "assert sklearn.__version__ >= \"0.20\"\n",
        "\n",
        "# Common imports\n",
        "import numpy as np\n",
        "import os\n",
        "\n",
        "# to make this notebook's output stable across runs\n",
        "np.random.seed(42)\n",
        "\n",
        "# To plot pretty figures\n",
        "%matplotlib inline\n",
        "import matplotlib as mpl\n",
        "import matplotlib.pyplot as plt\n",
        "mpl.rc('axes', labelsize=14)\n",
        "mpl.rc('xtick', labelsize=12)\n",
        "mpl.rc('ytick', labelsize=12)\n",
        "\n",
        "# Where to save the figures\n",
        "PROJECT_ROOT_DIR = \".\"\n",
        "CHAPTER_ID = \"classification\"\n",
        "IMAGES_PATH = os.path.join(PROJECT_ROOT_DIR, \"images\", CHAPTER_ID)\n",
        "os.makedirs(IMAGES_PATH, exist_ok=True)\n",
        "\n",
        "def save_fig(fig_id, tight_layout=True, fig_extension=\"png\", resolution=300):\n",
        "    path = os.path.join(IMAGES_PATH, fig_id + \".\" + fig_extension)\n",
        "    print(\"Saving figure\", fig_id)\n",
        "    if tight_layout:\n",
        "        plt.tight_layout()\n",
        "    plt.savefig(path, format=fig_extension, dpi=resolution)"
      ],
      "execution_count": null,
      "outputs": []
    },
    {
      "cell_type": "markdown",
      "metadata": {
        "id": "HLH1IA4A9kiK"
      },
      "source": [
        "# MNIST"
      ]
    },
    {
      "cell_type": "markdown",
      "metadata": {
        "id": "7DyBRK_L9kiL"
      },
      "source": [
        "**Warning:** since Scikit-Learn 0.24, `fetch_openml()` returns a Pandas `DataFrame` by default. To avoid this and keep the same code as in the book, we use `as_frame=False`."
      ]
    },
    {
      "cell_type": "code",
      "metadata": {
        "id": "lMJe8uFW9kiL"
      },
      "source": [
        "from sklearn.datasets import fetch_openml\n",
        "mnist = fetch_openml('mnist_784', version=1, as_frame=False)\n",
        "mnist.keys()"
      ],
      "execution_count": null,
      "outputs": []
    },
    {
      "cell_type": "code",
      "metadata": {
        "id": "SPIK1orb9kiM"
      },
      "source": [
        "X, y = mnist[\"data\"], mnist[\"target\"]\n",
        "X.shape"
      ],
      "execution_count": null,
      "outputs": []
    },
    {
      "cell_type": "code",
      "metadata": {
        "id": "kFA6CnC69kiN"
      },
      "source": [
        "y.shape"
      ],
      "execution_count": null,
      "outputs": []
    },
    {
      "cell_type": "code",
      "metadata": {
        "id": "EGIoYLh69kiN"
      },
      "source": [
        "28 * 28"
      ],
      "execution_count": null,
      "outputs": []
    },
    {
      "cell_type": "code",
      "metadata": {
        "id": "eYeXAusP9kiN"
      },
      "source": [
        "%matplotlib inline\n",
        "import matplotlib as mpl\n",
        "import matplotlib.pyplot as plt\n",
        "\n",
        "some_digit = X[0]\n",
        "some_digit_image = some_digit.reshape(28, 28)\n",
        "plt.imshow(some_digit_image, cmap=mpl.cm.binary)\n",
        "plt.axis(\"off\")\n",
        "\n",
        "save_fig(\"some_digit_plot\")\n",
        "plt.show()"
      ],
      "execution_count": null,
      "outputs": []
    },
    {
      "cell_type": "code",
      "metadata": {
        "id": "GMvzwSiw9kiO"
      },
      "source": [
        "y[0]"
      ],
      "execution_count": null,
      "outputs": []
    },
    {
      "cell_type": "code",
      "metadata": {
        "id": "XGkJL8ON9kiO"
      },
      "source": [
        "y = y.astype(np.uint8)"
      ],
      "execution_count": null,
      "outputs": []
    },
    {
      "cell_type": "code",
      "metadata": {
        "id": "py7knTIl9kiO"
      },
      "source": [
        "def plot_digit(data):\n",
        "    image = data.reshape(28, 28)\n",
        "    plt.imshow(image, cmap = mpl.cm.binary,\n",
        "               interpolation=\"nearest\")\n",
        "    plt.axis(\"off\")"
      ],
      "execution_count": null,
      "outputs": []
    },
    {
      "cell_type": "code",
      "metadata": {
        "id": "5u9JUL_y9kiO"
      },
      "source": [
        "# EXTRA\n",
        "def plot_digits(instances, images_per_row=10, **options):\n",
        "    size = 28\n",
        "    images_per_row = min(len(instances), images_per_row)\n",
        "    images = [instance.reshape(size,size) for instance in instances]\n",
        "    n_rows = (len(instances) - 1) // images_per_row + 1\n",
        "    row_images = []\n",
        "    n_empty = n_rows * images_per_row - len(instances)\n",
        "    images.append(np.zeros((size, size * n_empty)))\n",
        "    for row in range(n_rows):\n",
        "        rimages = images[row * images_per_row : (row + 1) * images_per_row]\n",
        "        row_images.append(np.concatenate(rimages, axis=1))\n",
        "    image = np.concatenate(row_images, axis=0)\n",
        "    plt.imshow(image, cmap = mpl.cm.binary, **options)\n",
        "    plt.axis(\"off\")"
      ],
      "execution_count": null,
      "outputs": []
    },
    {
      "cell_type": "code",
      "metadata": {
        "id": "lQKzlE-e9kiP"
      },
      "source": [
        "plt.figure(figsize=(9,9))\n",
        "example_images = X[:100]\n",
        "plot_digits(example_images, images_per_row=10)\n",
        "save_fig(\"more_digits_plot\")\n",
        "plt.show()"
      ],
      "execution_count": null,
      "outputs": []
    },
    {
      "cell_type": "code",
      "metadata": {
        "id": "JU9D_ocS9kiP"
      },
      "source": [
        "y[0]"
      ],
      "execution_count": null,
      "outputs": []
    },
    {
      "cell_type": "code",
      "metadata": {
        "id": "4HH879849kiP"
      },
      "source": [
        "X_train, X_test, y_train, y_test = X[:60000], X[60000:], y[:60000], y[60000:]"
      ],
      "execution_count": null,
      "outputs": []
    },
    {
      "cell_type": "markdown",
      "metadata": {
        "id": "aMbIUwe-9kiQ"
      },
      "source": [
        "# Binary classifier"
      ]
    },
    {
      "cell_type": "code",
      "metadata": {
        "id": "k7mNktc89kiQ"
      },
      "source": [
        "y_train_5 = (y_train == 5)\n",
        "y_test_5 = (y_test == 5)"
      ],
      "execution_count": null,
      "outputs": []
    },
    {
      "cell_type": "markdown",
      "metadata": {
        "id": "2zMw2XMU9kiQ"
      },
      "source": [
        "**Note**: some hyperparameters will have a different defaut value in future versions of Scikit-Learn, such as `max_iter` and `tol`. To be future-proof, we explicitly set these hyperparameters to their future default values. For simplicity, this is not shown in the book."
      ]
    },
    {
      "cell_type": "code",
      "metadata": {
        "id": "ZmoXBSGJ9kiQ"
      },
      "source": [
        "from sklearn.linear_model import SGDClassifier\n",
        "\n",
        "sgd_clf = SGDClassifier(max_iter=1000, tol=1e-3, random_state=42)\n",
        "sgd_clf.fit(X_train, y_train_5)"
      ],
      "execution_count": null,
      "outputs": []
    },
    {
      "cell_type": "code",
      "metadata": {
        "id": "kwfj0Zy59kiR"
      },
      "source": [
        "sgd_clf.predict([some_digit])"
      ],
      "execution_count": null,
      "outputs": []
    },
    {
      "cell_type": "code",
      "metadata": {
        "id": "mA7wg2Vt9kiR"
      },
      "source": [
        "from sklearn.model_selection import cross_val_score\n",
        "cross_val_score(sgd_clf, X_train, y_train_5, cv=3, scoring=\"accuracy\")"
      ],
      "execution_count": null,
      "outputs": []
    },
    {
      "cell_type": "code",
      "metadata": {
        "id": "s6Y9u0DS9kiR"
      },
      "source": [
        "from sklearn.model_selection import StratifiedKFold\n",
        "from sklearn.base import clone\n",
        "\n",
        "skfolds = StratifiedKFold(n_splits=3, shuffle=True, random_state=42)\n",
        "\n",
        "for train_index, test_index in skfolds.split(X_train, y_train_5):\n",
        "    clone_clf = clone(sgd_clf)\n",
        "    X_train_folds = X_train[train_index]\n",
        "    y_train_folds = y_train_5[train_index]\n",
        "    X_test_fold = X_train[test_index]\n",
        "    y_test_fold = y_train_5[test_index]\n",
        "\n",
        "    clone_clf.fit(X_train_folds, y_train_folds)\n",
        "    y_pred = clone_clf.predict(X_test_fold)\n",
        "    n_correct = sum(y_pred == y_test_fold)\n",
        "    print(n_correct / len(y_pred))"
      ],
      "execution_count": null,
      "outputs": []
    },
    {
      "cell_type": "markdown",
      "metadata": {
        "id": "40zVXIii9kiS"
      },
      "source": [
        "**Note**: `shuffle=True` was omitted by mistake in previous releases of the book."
      ]
    },
    {
      "cell_type": "code",
      "metadata": {
        "id": "3NsNJWVL9kiS"
      },
      "source": [
        "from sklearn.base import BaseEstimator\n",
        "class Never5Classifier(BaseEstimator):\n",
        "    def fit(self, X, y=None):\n",
        "        pass\n",
        "    def predict(self, X):\n",
        "        return np.zeros((len(X), 1), dtype=bool)"
      ],
      "execution_count": null,
      "outputs": []
    },
    {
      "cell_type": "code",
      "metadata": {
        "id": "_cX7ZzHQ9kiS"
      },
      "source": [
        "never_5_clf = Never5Classifier()\n",
        "cross_val_score(never_5_clf, X_train, y_train_5, cv=3, scoring=\"accuracy\")"
      ],
      "execution_count": null,
      "outputs": []
    },
    {
      "cell_type": "markdown",
      "metadata": {
        "id": "xzO4qj149kiS"
      },
      "source": [
        "**Warning**: this output (and many others in this notebook and other notebooks) may differ slightly from those in the book. Don't worry, that's okay! There are several reasons for this:\n",
        "* first, Scikit-Learn and other libraries evolve, and algorithms get tweaked a bit, which may change the exact result you get. If you use the latest Scikit-Learn version (and in general, you really should), you probably won't be using the exact same version I used when I wrote the book or this notebook, hence the difference. I try to keep this notebook reasonably up to date, but I can't change the numbers on the pages in your copy of the book.\n",
        "* second, many training algorithms are stochastic, meaning they rely on randomness. In principle, it's possible to get consistent outputs from a random number generator by setting the seed from which it generates the pseudo-random numbers (which is why you will see `random_state=42` or `np.random.seed(42)` pretty often). However, sometimes this does not suffice due to the other factors listed here.\n",
        "* third, if the training algorithm runs across multiple threads (as do some algorithms implemented in C) or across multiple processes (e.g., when using the `n_jobs` argument), then the precise order in which operations will run is not always guaranteed, and thus the exact result may vary slightly.\n",
        "* lastly, other things may prevent perfect reproducibility, such as Python dicts and sets whose order is not guaranteed to be stable across sessions, or the order of files in a directory which is also not guaranteed."
      ]
    },
    {
      "cell_type": "code",
      "metadata": {
        "id": "Ml-uEfmn9kiT"
      },
      "source": [
        "from sklearn.model_selection import cross_val_predict\n",
        "\n",
        "y_train_pred = cross_val_predict(sgd_clf, X_train, y_train_5, cv=3)"
      ],
      "execution_count": null,
      "outputs": []
    },
    {
      "cell_type": "code",
      "metadata": {
        "id": "a2uCZ50h9kiT"
      },
      "source": [
        "from sklearn.metrics import confusion_matrix\n",
        "\n",
        "confusion_matrix(y_train_5, y_train_pred)"
      ],
      "execution_count": null,
      "outputs": []
    },
    {
      "cell_type": "code",
      "metadata": {
        "id": "B5v7eKvf9kiT"
      },
      "source": [
        "y_train_perfect_predictions = y_train_5  # pretend we reached perfection\n",
        "confusion_matrix(y_train_5, y_train_perfect_predictions)"
      ],
      "execution_count": null,
      "outputs": []
    },
    {
      "cell_type": "code",
      "metadata": {
        "id": "_hxIu6jR9kiT"
      },
      "source": [
        "from sklearn.metrics import precision_score, recall_score\n",
        "\n",
        "precision_score(y_train_5, y_train_pred)"
      ],
      "execution_count": null,
      "outputs": []
    },
    {
      "cell_type": "code",
      "metadata": {
        "id": "npZ8Psxk9kiU"
      },
      "source": [
        "cm = confusion_matrix(y_train_5, y_train_pred)\n",
        "cm[1, 1] / (cm[0, 1] + cm[1, 1])"
      ],
      "execution_count": null,
      "outputs": []
    },
    {
      "cell_type": "code",
      "metadata": {
        "id": "XfCpiIc09kiU"
      },
      "source": [
        "recall_score(y_train_5, y_train_pred)"
      ],
      "execution_count": null,
      "outputs": []
    },
    {
      "cell_type": "code",
      "metadata": {
        "id": "O8wRmJDk9kiU"
      },
      "source": [
        "cm[1, 1] / (cm[1, 0] + cm[1, 1])"
      ],
      "execution_count": null,
      "outputs": []
    },
    {
      "cell_type": "code",
      "metadata": {
        "id": "pfuGWB4i9kiU"
      },
      "source": [
        "from sklearn.metrics import f1_score\n",
        "\n",
        "f1_score(y_train_5, y_train_pred)"
      ],
      "execution_count": null,
      "outputs": []
    },
    {
      "cell_type": "code",
      "metadata": {
        "id": "Q1t11Up99kiV"
      },
      "source": [
        "cm[1, 1] / (cm[1, 1] + (cm[1, 0] + cm[0, 1]) / 2)"
      ],
      "execution_count": null,
      "outputs": []
    },
    {
      "cell_type": "code",
      "metadata": {
        "id": "3NaHktZz9kiV"
      },
      "source": [
        "y_scores = sgd_clf.decision_function([some_digit])\n",
        "y_scores"
      ],
      "execution_count": null,
      "outputs": []
    },
    {
      "cell_type": "code",
      "metadata": {
        "id": "oBjDUDPJ9kiV"
      },
      "source": [
        "threshold = 0\n",
        "y_some_digit_pred = (y_scores > threshold)"
      ],
      "execution_count": null,
      "outputs": []
    },
    {
      "cell_type": "code",
      "metadata": {
        "id": "qds2JfBy9kiV"
      },
      "source": [
        "y_some_digit_pred"
      ],
      "execution_count": null,
      "outputs": []
    },
    {
      "cell_type": "code",
      "metadata": {
        "id": "_wlL7_lp9kiV"
      },
      "source": [
        "threshold = 8000\n",
        "y_some_digit_pred = (y_scores > threshold)\n",
        "y_some_digit_pred"
      ],
      "execution_count": null,
      "outputs": []
    },
    {
      "cell_type": "code",
      "metadata": {
        "id": "wUjqx9tZ9kiW"
      },
      "source": [
        "y_scores = cross_val_predict(sgd_clf, X_train, y_train_5, cv=3,\n",
        "                             method=\"decision_function\")"
      ],
      "execution_count": null,
      "outputs": []
    },
    {
      "cell_type": "code",
      "metadata": {
        "id": "eWVkem1N9kiW"
      },
      "source": [
        "from sklearn.metrics import precision_recall_curve\n",
        "\n",
        "precisions, recalls, thresholds = precision_recall_curve(y_train_5, y_scores)"
      ],
      "execution_count": null,
      "outputs": []
    },
    {
      "cell_type": "code",
      "metadata": {
        "id": "pPFT8md79kiW"
      },
      "source": [
        "def plot_precision_recall_vs_threshold(precisions, recalls, thresholds):\n",
        "    plt.plot(thresholds, precisions[:-1], \"b--\", label=\"Precision\", linewidth=2)\n",
        "    plt.plot(thresholds, recalls[:-1], \"g-\", label=\"Recall\", linewidth=2)\n",
        "    plt.legend(loc=\"center right\", fontsize=16) # Not shown in the book\n",
        "    plt.xlabel(\"Threshold\", fontsize=16)        # Not shown\n",
        "    plt.grid(True)                              # Not shown\n",
        "    plt.axis([-50000, 50000, 0, 1])             # Not shown\n",
        "\n",
        "\n",
        "\n",
        "recall_90_precision = recalls[np.argmax(precisions >= 0.90)]\n",
        "threshold_90_precision = thresholds[np.argmax(precisions >= 0.90)]\n",
        "\n",
        "\n",
        "plt.figure(figsize=(8, 4))                                                                  # Not shown\n",
        "plot_precision_recall_vs_threshold(precisions, recalls, thresholds)\n",
        "plt.plot([threshold_90_precision, threshold_90_precision], [0., 0.9], \"r:\")                 # Not shown\n",
        "plt.plot([-50000, threshold_90_precision], [0.9, 0.9], \"r:\")                                # Not shown\n",
        "plt.plot([-50000, threshold_90_precision], [recall_90_precision, recall_90_precision], \"r:\")# Not shown\n",
        "plt.plot([threshold_90_precision], [0.9], \"ro\")                                             # Not shown\n",
        "plt.plot([threshold_90_precision], [recall_90_precision], \"ro\")                             # Not shown\n",
        "save_fig(\"precision_recall_vs_threshold_plot\")                                              # Not shown\n",
        "plt.show()"
      ],
      "execution_count": null,
      "outputs": []
    },
    {
      "cell_type": "code",
      "metadata": {
        "id": "Ho42z9E29kiW"
      },
      "source": [
        "(y_train_pred == (y_scores > 0)).all()"
      ],
      "execution_count": null,
      "outputs": []
    },
    {
      "cell_type": "code",
      "metadata": {
        "id": "vVf_lVDY9kiX"
      },
      "source": [
        "def plot_precision_vs_recall(precisions, recalls):\n",
        "    plt.plot(recalls, precisions, \"b-\", linewidth=2)\n",
        "    plt.xlabel(\"Recall\", fontsize=16)\n",
        "    plt.ylabel(\"Precision\", fontsize=16)\n",
        "    plt.axis([0, 1, 0, 1])\n",
        "    plt.grid(True)\n",
        "\n",
        "plt.figure(figsize=(8, 6))\n",
        "plot_precision_vs_recall(precisions, recalls)\n",
        "plt.plot([recall_90_precision, recall_90_precision], [0., 0.9], \"r:\")\n",
        "plt.plot([0.0, recall_90_precision], [0.9, 0.9], \"r:\")\n",
        "plt.plot([recall_90_precision], [0.9], \"ro\")\n",
        "save_fig(\"precision_vs_recall_plot\")\n",
        "plt.show()"
      ],
      "execution_count": null,
      "outputs": []
    },
    {
      "cell_type": "code",
      "metadata": {
        "id": "Iu059AvW9kiX"
      },
      "source": [
        "threshold_90_precision = thresholds[np.argmax(precisions >= 0.90)]"
      ],
      "execution_count": null,
      "outputs": []
    },
    {
      "cell_type": "code",
      "metadata": {
        "id": "Ol-kyWyZ9kiX"
      },
      "source": [
        "threshold_90_precision"
      ],
      "execution_count": null,
      "outputs": []
    },
    {
      "cell_type": "code",
      "metadata": {
        "id": "RWu86yVn9kiX"
      },
      "source": [
        "y_train_pred_90 = (y_scores >= threshold_90_precision)"
      ],
      "execution_count": null,
      "outputs": []
    },
    {
      "cell_type": "code",
      "metadata": {
        "id": "r-dU8PAt9kiX"
      },
      "source": [
        "precision_score(y_train_5, y_train_pred_90)"
      ],
      "execution_count": null,
      "outputs": []
    },
    {
      "cell_type": "code",
      "metadata": {
        "id": "XN9TIUow9kiY"
      },
      "source": [
        "recall_score(y_train_5, y_train_pred_90)"
      ],
      "execution_count": null,
      "outputs": []
    },
    {
      "cell_type": "markdown",
      "metadata": {
        "id": "qOJGBp149kiY"
      },
      "source": [
        "# ROC curves"
      ]
    },
    {
      "cell_type": "code",
      "metadata": {
        "id": "4JVJ7qRP9kiY"
      },
      "source": [
        "from sklearn.metrics import roc_curve\n",
        "\n",
        "fpr, tpr, thresholds = roc_curve(y_train_5, y_scores)"
      ],
      "execution_count": null,
      "outputs": []
    },
    {
      "cell_type": "code",
      "metadata": {
        "id": "yL1vFKyF9kiY"
      },
      "source": [
        "def plot_roc_curve(fpr, tpr, label=None):\n",
        "    plt.plot(fpr, tpr, linewidth=2, label=label)\n",
        "    plt.plot([0, 1], [0, 1], 'k--') # dashed diagonal\n",
        "    plt.axis([0, 1, 0, 1])                                    # Not shown in the book\n",
        "    plt.xlabel('False Positive Rate (Fall-Out)', fontsize=16) # Not shown\n",
        "    plt.ylabel('True Positive Rate (Recall)', fontsize=16)    # Not shown\n",
        "    plt.grid(True)                                            # Not shown\n",
        "\n",
        "plt.figure(figsize=(8, 6))                                    # Not shown\n",
        "plot_roc_curve(fpr, tpr)\n",
        "fpr_90 = fpr[np.argmax(tpr >= recall_90_precision)]           # Not shown\n",
        "plt.plot([fpr_90, fpr_90], [0., recall_90_precision], \"r:\")   # Not shown\n",
        "plt.plot([0.0, fpr_90], [recall_90_precision, recall_90_precision], \"r:\")  # Not shown\n",
        "plt.plot([fpr_90], [recall_90_precision], \"ro\")               # Not shown\n",
        "save_fig(\"roc_curve_plot\")                                    # Not shown\n",
        "plt.show()"
      ],
      "execution_count": null,
      "outputs": []
    },
    {
      "cell_type": "code",
      "metadata": {
        "id": "3Qp-VZ8o9kiY"
      },
      "source": [
        "from sklearn.metrics import roc_auc_score\n",
        "\n",
        "roc_auc_score(y_train_5, y_scores)"
      ],
      "execution_count": null,
      "outputs": []
    },
    {
      "cell_type": "markdown",
      "metadata": {
        "id": "DY70AKWZ9kiZ"
      },
      "source": [
        "**Note**: we set `n_estimators=100` to be future-proof since this will be the default value in Scikit-Learn 0.22."
      ]
    },
    {
      "cell_type": "code",
      "metadata": {
        "id": "icf0ISzw9kiZ"
      },
      "source": [
        "from sklearn.ensemble import RandomForestClassifier\n",
        "forest_clf = RandomForestClassifier(n_estimators=100, random_state=42)\n",
        "y_probas_forest = cross_val_predict(forest_clf, X_train, y_train_5, cv=3,\n",
        "                                    method=\"predict_proba\")"
      ],
      "execution_count": null,
      "outputs": []
    },
    {
      "cell_type": "code",
      "metadata": {
        "id": "h98dFDJY9kiZ"
      },
      "source": [
        "y_scores_forest = y_probas_forest[:, 1] # score = proba of positive class\n",
        "fpr_forest, tpr_forest, thresholds_forest = roc_curve(y_train_5,y_scores_forest)"
      ],
      "execution_count": null,
      "outputs": []
    },
    {
      "cell_type": "code",
      "metadata": {
        "id": "eJxmWFCV9kiZ"
      },
      "source": [
        "recall_for_forest = tpr_forest[np.argmax(fpr_forest >= fpr_90)]\n",
        "\n",
        "plt.figure(figsize=(8, 6))\n",
        "plt.plot(fpr, tpr, \"b:\", linewidth=2, label=\"SGD\")\n",
        "plot_roc_curve(fpr_forest, tpr_forest, \"Random Forest\")\n",
        "plt.plot([fpr_90, fpr_90], [0., recall_90_precision], \"r:\")\n",
        "plt.plot([0.0, fpr_90], [recall_90_precision, recall_90_precision], \"r:\")\n",
        "plt.plot([fpr_90], [recall_90_precision], \"ro\")\n",
        "plt.plot([fpr_90, fpr_90], [0., recall_for_forest], \"r:\")\n",
        "plt.plot([fpr_90], [recall_for_forest], \"ro\")\n",
        "plt.grid(True)\n",
        "plt.legend(loc=\"lower right\", fontsize=16)\n",
        "save_fig(\"roc_curve_comparison_plot\")\n",
        "plt.show()"
      ],
      "execution_count": null,
      "outputs": []
    },
    {
      "cell_type": "code",
      "metadata": {
        "id": "ov0R2G8_9kiZ"
      },
      "source": [
        "roc_auc_score(y_train_5, y_scores_forest)"
      ],
      "execution_count": null,
      "outputs": []
    },
    {
      "cell_type": "code",
      "metadata": {
        "id": "YAEQE9oI9kia"
      },
      "source": [
        "y_train_pred_forest = cross_val_predict(forest_clf, X_train, y_train_5, cv=3)\n",
        "precision_score(y_train_5, y_train_pred_forest)"
      ],
      "execution_count": null,
      "outputs": []
    },
    {
      "cell_type": "code",
      "metadata": {
        "id": "_aSUVBYw9kia"
      },
      "source": [
        "recall_score(y_train_5, y_train_pred_forest)"
      ],
      "execution_count": null,
      "outputs": []
    },
    {
      "cell_type": "markdown",
      "metadata": {
        "id": "EyLXC5x29kia"
      },
      "source": [
        "# Multiclass classification"
      ]
    },
    {
      "cell_type": "code",
      "metadata": {
        "id": "qEZwWhFY9kia"
      },
      "source": [
        "from sklearn.svm import SVC\n",
        "\n",
        "svm_clf = SVC(gamma=\"auto\", random_state=42)\n",
        "svm_clf.fit(X_train[:1000], y_train[:1000]) # y_train, not y_train_5\n",
        "svm_clf.predict([some_digit])"
      ],
      "execution_count": null,
      "outputs": []
    },
    {
      "cell_type": "code",
      "metadata": {
        "id": "kwZtnsSN9kia"
      },
      "source": [
        "some_digit_scores = svm_clf.decision_function([some_digit])\n",
        "some_digit_scores"
      ],
      "execution_count": null,
      "outputs": []
    },
    {
      "cell_type": "code",
      "metadata": {
        "id": "8PkJ_gYU9kib"
      },
      "source": [
        "np.argmax(some_digit_scores)"
      ],
      "execution_count": null,
      "outputs": []
    },
    {
      "cell_type": "code",
      "metadata": {
        "id": "8v-fjkKV9kib"
      },
      "source": [
        "svm_clf.classes_"
      ],
      "execution_count": null,
      "outputs": []
    },
    {
      "cell_type": "code",
      "metadata": {
        "id": "zn82aJhL9kib"
      },
      "source": [
        "svm_clf.classes_[5]"
      ],
      "execution_count": null,
      "outputs": []
    },
    {
      "cell_type": "code",
      "metadata": {
        "id": "5gid3SMY9kib"
      },
      "source": [
        "from sklearn.multiclass import OneVsRestClassifier\n",
        "ovr_clf = OneVsRestClassifier(SVC(gamma=\"auto\", random_state=42))\n",
        "ovr_clf.fit(X_train[:1000], y_train[:1000])\n",
        "ovr_clf.predict([some_digit])"
      ],
      "execution_count": null,
      "outputs": []
    },
    {
      "cell_type": "code",
      "metadata": {
        "id": "9BX-BLel9kib"
      },
      "source": [
        "len(ovr_clf.estimators_)"
      ],
      "execution_count": null,
      "outputs": []
    },
    {
      "cell_type": "code",
      "metadata": {
        "id": "L10KBoSf9kic"
      },
      "source": [
        "sgd_clf.fit(X_train, y_train)\n",
        "sgd_clf.predict([some_digit])"
      ],
      "execution_count": null,
      "outputs": []
    },
    {
      "cell_type": "code",
      "metadata": {
        "id": "4joMNp8O9kic"
      },
      "source": [
        "sgd_clf.decision_function([some_digit])"
      ],
      "execution_count": null,
      "outputs": []
    },
    {
      "cell_type": "markdown",
      "metadata": {
        "id": "5D57eeoA9kic"
      },
      "source": [
        "**Warning**: the following two cells may take close to 30 minutes to run, or more depending on your hardware."
      ]
    },
    {
      "cell_type": "code",
      "metadata": {
        "colab": {
          "background_save": true
        },
        "id": "JLhvgA859kic"
      },
      "source": [
        "cross_val_score(sgd_clf, X_train, y_train, cv=3, scoring=\"accuracy\")"
      ],
      "execution_count": null,
      "outputs": []
    },
    {
      "cell_type": "code",
      "metadata": {
        "colab": {
          "background_save": true
        },
        "id": "IaPoVUpO9kic"
      },
      "source": [
        "from sklearn.preprocessing import StandardScaler\n",
        "scaler = StandardScaler()\n",
        "X_train_scaled = scaler.fit_transform(X_train.astype(np.float64))\n",
        "cross_val_score(sgd_clf, X_train_scaled, y_train, cv=3, scoring=\"accuracy\")"
      ],
      "execution_count": null,
      "outputs": []
    },
    {
      "cell_type": "markdown",
      "metadata": {
        "id": "WHHZq4iL9kic"
      },
      "source": [
        "# Error analysis"
      ]
    },
    {
      "cell_type": "code",
      "metadata": {
        "id": "U3PEEVO59kid"
      },
      "source": [
        "y_train_pred = cross_val_predict(sgd_clf, X_train_scaled, y_train, cv=3)\n",
        "conf_mx = confusion_matrix(y_train, y_train_pred)\n",
        "conf_mx"
      ],
      "execution_count": null,
      "outputs": []
    },
    {
      "cell_type": "code",
      "metadata": {
        "id": "xmiACic49kid"
      },
      "source": [
        "# since sklearn 0.22, you can use sklearn.metrics.plot_confusion_matrix()\n",
        "def plot_confusion_matrix(matrix):\n",
        "    \"\"\"If you prefer color and a colorbar\"\"\"\n",
        "    fig = plt.figure(figsize=(8,8))\n",
        "    ax = fig.add_subplot(111)\n",
        "    cax = ax.matshow(matrix)\n",
        "    fig.colorbar(cax)"
      ],
      "execution_count": null,
      "outputs": []
    },
    {
      "cell_type": "code",
      "metadata": {
        "id": "Na4VPp6_9kid"
      },
      "source": [
        "plt.matshow(conf_mx, cmap=plt.cm.gray)\n",
        "save_fig(\"confusion_matrix_plot\", tight_layout=False)\n",
        "plt.show()"
      ],
      "execution_count": null,
      "outputs": []
    },
    {
      "cell_type": "code",
      "metadata": {
        "id": "cXFL5oht9kid"
      },
      "source": [
        "row_sums = conf_mx.sum(axis=1, keepdims=True)\n",
        "norm_conf_mx = conf_mx / row_sums"
      ],
      "execution_count": null,
      "outputs": []
    },
    {
      "cell_type": "code",
      "metadata": {
        "id": "Fm7vvig-9kid"
      },
      "source": [
        "np.fill_diagonal(norm_conf_mx, 0)\n",
        "plt.matshow(norm_conf_mx, cmap=plt.cm.gray)\n",
        "save_fig(\"confusion_matrix_errors_plot\", tight_layout=False)\n",
        "plt.show()"
      ],
      "execution_count": null,
      "outputs": []
    },
    {
      "cell_type": "code",
      "metadata": {
        "id": "cTCYNUdE9kid"
      },
      "source": [
        "cl_a, cl_b = 3, 5\n",
        "X_aa = X_train[(y_train == cl_a) & (y_train_pred == cl_a)]\n",
        "X_ab = X_train[(y_train == cl_a) & (y_train_pred == cl_b)]\n",
        "X_ba = X_train[(y_train == cl_b) & (y_train_pred == cl_a)]\n",
        "X_bb = X_train[(y_train == cl_b) & (y_train_pred == cl_b)]\n",
        "\n",
        "plt.figure(figsize=(8,8))\n",
        "plt.subplot(221); plot_digits(X_aa[:25], images_per_row=5)\n",
        "plt.subplot(222); plot_digits(X_ab[:25], images_per_row=5)\n",
        "plt.subplot(223); plot_digits(X_ba[:25], images_per_row=5)\n",
        "plt.subplot(224); plot_digits(X_bb[:25], images_per_row=5)\n",
        "save_fig(\"error_analysis_digits_plot\")\n",
        "plt.show()"
      ],
      "execution_count": null,
      "outputs": []
    },
    {
      "cell_type": "markdown",
      "metadata": {
        "id": "H65zrAtf9kie"
      },
      "source": [
        "# Multilabel classification"
      ]
    },
    {
      "cell_type": "code",
      "metadata": {
        "id": "lA11bwv59kie"
      },
      "source": [
        "from sklearn.neighbors import KNeighborsClassifier\n",
        "\n",
        "y_train_large = (y_train >= 7)\n",
        "y_train_odd = (y_train % 2 == 1)\n",
        "y_multilabel = np.c_[y_train_large, y_train_odd]\n",
        "\n",
        "knn_clf = KNeighborsClassifier()\n",
        "knn_clf.fit(X_train, y_multilabel)"
      ],
      "execution_count": null,
      "outputs": []
    },
    {
      "cell_type": "code",
      "metadata": {
        "id": "E7zZrxGd9kie"
      },
      "source": [
        "knn_clf.predict([some_digit])"
      ],
      "execution_count": null,
      "outputs": []
    },
    {
      "cell_type": "markdown",
      "metadata": {
        "id": "0lUWwdAM9kie"
      },
      "source": [
        "**Warning**: the following cell may take a very long time (possibly hours depending on your hardware)."
      ]
    },
    {
      "cell_type": "code",
      "metadata": {
        "id": "UuRHeDUi9kie"
      },
      "source": [
        "y_train_knn_pred = cross_val_predict(knn_clf, X_train, y_multilabel, cv=3)\n",
        "f1_score(y_multilabel, y_train_knn_pred, average=\"macro\")"
      ],
      "execution_count": null,
      "outputs": []
    },
    {
      "cell_type": "markdown",
      "metadata": {
        "id": "0C5YB9SY9kie"
      },
      "source": [
        "# Multioutput classification"
      ]
    },
    {
      "cell_type": "code",
      "metadata": {
        "id": "hw19EY-r9kif"
      },
      "source": [
        "noise = np.random.randint(0, 100, (len(X_train), 784))\n",
        "X_train_mod = X_train + noise\n",
        "noise = np.random.randint(0, 100, (len(X_test), 784))\n",
        "X_test_mod = X_test + noise\n",
        "y_train_mod = X_train\n",
        "y_test_mod = X_test"
      ],
      "execution_count": null,
      "outputs": []
    },
    {
      "cell_type": "code",
      "metadata": {
        "id": "lYKbVhLs9kif"
      },
      "source": [
        "some_index = 0\n",
        "plt.subplot(121); plot_digit(X_test_mod[some_index])\n",
        "plt.subplot(122); plot_digit(y_test_mod[some_index])\n",
        "save_fig(\"noisy_digit_example_plot\")\n",
        "plt.show()"
      ],
      "execution_count": null,
      "outputs": []
    },
    {
      "cell_type": "code",
      "metadata": {
        "id": "0qK6W2Ro9kif"
      },
      "source": [
        "knn_clf.fit(X_train_mod, y_train_mod)\n",
        "clean_digit = knn_clf.predict([X_test_mod[some_index]])\n",
        "plot_digit(clean_digit)\n",
        "save_fig(\"cleaned_digit_example_plot\")"
      ],
      "execution_count": null,
      "outputs": []
    },
    {
      "cell_type": "markdown",
      "metadata": {
        "id": "oFENXsdC9kif"
      },
      "source": [
        "# Extra material"
      ]
    },
    {
      "cell_type": "markdown",
      "metadata": {
        "id": "qKOjFAMg9kif"
      },
      "source": [
        "## Dummy (ie. random) classifier"
      ]
    },
    {
      "cell_type": "code",
      "metadata": {
        "id": "utYlFEaK9kif"
      },
      "source": [
        "from sklearn.dummy import DummyClassifier\n",
        "dmy_clf = DummyClassifier(strategy=\"prior\")\n",
        "y_probas_dmy = cross_val_predict(dmy_clf, X_train, y_train_5, cv=3, method=\"predict_proba\")\n",
        "y_scores_dmy = y_probas_dmy[:, 1]"
      ],
      "execution_count": null,
      "outputs": []
    },
    {
      "cell_type": "code",
      "metadata": {
        "id": "DXC62hIA9kig",
        "scrolled": true
      },
      "source": [
        "fprr, tprr, thresholdsr = roc_curve(y_train_5, y_scores_dmy)\n",
        "plot_roc_curve(fprr, tprr)"
      ],
      "execution_count": null,
      "outputs": []
    },
    {
      "cell_type": "markdown",
      "metadata": {
        "id": "tmATFkFi9kig"
      },
      "source": [
        "## KNN classifier"
      ]
    },
    {
      "cell_type": "code",
      "metadata": {
        "id": "OcLH93D-9kig"
      },
      "source": [
        "from sklearn.neighbors import KNeighborsClassifier\n",
        "knn_clf = KNeighborsClassifier(weights='distance', n_neighbors=4)\n",
        "knn_clf.fit(X_train, y_train)"
      ],
      "execution_count": null,
      "outputs": []
    },
    {
      "cell_type": "code",
      "metadata": {
        "id": "HDL4H3j09kig"
      },
      "source": [
        "y_knn_pred = knn_clf.predict(X_test)"
      ],
      "execution_count": null,
      "outputs": []
    },
    {
      "cell_type": "code",
      "metadata": {
        "id": "rCzipx7F9kig"
      },
      "source": [
        "from sklearn.metrics import accuracy_score\n",
        "accuracy_score(y_test, y_knn_pred)"
      ],
      "execution_count": null,
      "outputs": []
    },
    {
      "cell_type": "code",
      "metadata": {
        "id": "Nyc9O1_Q9kig"
      },
      "source": [
        "from scipy.ndimage.interpolation import shift\n",
        "def shift_digit(digit_array, dx, dy, new=0):\n",
        "    return shift(digit_array.reshape(28, 28), [dy, dx], cval=new).reshape(784)\n",
        "\n",
        "plot_digit(shift_digit(some_digit, 5, 1, new=100))"
      ],
      "execution_count": null,
      "outputs": []
    },
    {
      "cell_type": "code",
      "metadata": {
        "id": "t95jNGdT9kih"
      },
      "source": [
        "X_train_expanded = [X_train]\n",
        "y_train_expanded = [y_train]\n",
        "for dx, dy in ((1, 0), (-1, 0), (0, 1), (0, -1)):\n",
        "    shifted_images = np.apply_along_axis(shift_digit, axis=1, arr=X_train, dx=dx, dy=dy)\n",
        "    X_train_expanded.append(shifted_images)\n",
        "    y_train_expanded.append(y_train)\n",
        "\n",
        "X_train_expanded = np.concatenate(X_train_expanded)\n",
        "y_train_expanded = np.concatenate(y_train_expanded)\n",
        "X_train_expanded.shape, y_train_expanded.shape"
      ],
      "execution_count": null,
      "outputs": []
    },
    {
      "cell_type": "code",
      "metadata": {
        "id": "1Sd2amRm9kih"
      },
      "source": [
        "knn_clf.fit(X_train_expanded, y_train_expanded)"
      ],
      "execution_count": null,
      "outputs": []
    },
    {
      "cell_type": "code",
      "metadata": {
        "id": "QtjMnSr59kih"
      },
      "source": [
        "y_knn_expanded_pred = knn_clf.predict(X_test)"
      ],
      "execution_count": null,
      "outputs": []
    },
    {
      "cell_type": "code",
      "metadata": {
        "id": "COjzm4Zt9kih"
      },
      "source": [
        "accuracy_score(y_test, y_knn_expanded_pred)"
      ],
      "execution_count": null,
      "outputs": []
    },
    {
      "cell_type": "code",
      "metadata": {
        "id": "vYyfrkbf9kih"
      },
      "source": [
        "ambiguous_digit = X_test[2589]\n",
        "knn_clf.predict_proba([ambiguous_digit])"
      ],
      "execution_count": null,
      "outputs": []
    },
    {
      "cell_type": "code",
      "metadata": {
        "id": "0jS11-Gl9kii"
      },
      "source": [
        "plot_digit(ambiguous_digit)"
      ],
      "execution_count": null,
      "outputs": []
    },
    {
      "cell_type": "markdown",
      "metadata": {
        "id": "de25cfwl9kii"
      },
      "source": [
        "# Exercise solutions"
      ]
    },
    {
      "cell_type": "markdown",
      "metadata": {
        "id": "Z3qU9dUm9kii"
      },
      "source": [
        "## 1. An MNIST Classifier With Over 97% Accuracy"
      ]
    },
    {
      "cell_type": "markdown",
      "metadata": {
        "id": "A-04T0xm9kii"
      },
      "source": [
        "**Warning**: the next cell may take close to 16 hours to run, or more depending on your hardware."
      ]
    },
    {
      "cell_type": "code",
      "metadata": {
        "id": "qZiZ-kXD9kii"
      },
      "source": [
        "from sklearn.model_selection import GridSearchCV\n",
        "\n",
        "param_grid = [{'weights': [\"uniform\", \"distance\"], 'n_neighbors': [3, 4, 5]}]\n",
        "\n",
        "knn_clf = KNeighborsClassifier()\n",
        "grid_search = GridSearchCV(knn_clf, param_grid, cv=5, verbose=3)\n",
        "grid_search.fit(X_train, y_train)"
      ],
      "execution_count": null,
      "outputs": []
    },
    {
      "cell_type": "code",
      "metadata": {
        "id": "jZX-oYoI9kii"
      },
      "source": [
        "grid_search.best_params_"
      ],
      "execution_count": null,
      "outputs": []
    },
    {
      "cell_type": "code",
      "metadata": {
        "id": "HeV-YbsN9kij"
      },
      "source": [
        "grid_search.best_score_"
      ],
      "execution_count": null,
      "outputs": []
    },
    {
      "cell_type": "code",
      "metadata": {
        "id": "Df5_E51o9kik"
      },
      "source": [
        "from sklearn.metrics import accuracy_score\n",
        "\n",
        "y_pred = grid_search.predict(X_test)\n",
        "accuracy_score(y_test, y_pred)"
      ],
      "execution_count": null,
      "outputs": []
    },
    {
      "cell_type": "markdown",
      "metadata": {
        "id": "V3T_kNOE9kik"
      },
      "source": [
        "## 2. Data Augmentation"
      ]
    },
    {
      "cell_type": "code",
      "metadata": {
        "id": "mOz3_Fst9kik"
      },
      "source": [
        "from scipy.ndimage.interpolation import shift"
      ],
      "execution_count": null,
      "outputs": []
    },
    {
      "cell_type": "code",
      "metadata": {
        "id": "VZNrdagZ9kik"
      },
      "source": [
        "def shift_image(image, dx, dy):\n",
        "    image = image.reshape((28, 28))\n",
        "    shifted_image = shift(image, [dy, dx], cval=0, mode=\"constant\")\n",
        "    return shifted_image.reshape([-1])"
      ],
      "execution_count": null,
      "outputs": []
    },
    {
      "cell_type": "code",
      "metadata": {
        "id": "9jSORqr19kil"
      },
      "source": [
        "image = X_train[1000]\n",
        "shifted_image_down = shift_image(image, 0, 5)\n",
        "shifted_image_left = shift_image(image, -5, 0)\n",
        "\n",
        "plt.figure(figsize=(12,3))\n",
        "plt.subplot(131)\n",
        "plt.title(\"Original\", fontsize=14)\n",
        "plt.imshow(image.reshape(28, 28), interpolation=\"nearest\", cmap=\"Greys\")\n",
        "plt.subplot(132)\n",
        "plt.title(\"Shifted down\", fontsize=14)\n",
        "plt.imshow(shifted_image_down.reshape(28, 28), interpolation=\"nearest\", cmap=\"Greys\")\n",
        "plt.subplot(133)\n",
        "plt.title(\"Shifted left\", fontsize=14)\n",
        "plt.imshow(shifted_image_left.reshape(28, 28), interpolation=\"nearest\", cmap=\"Greys\")\n",
        "plt.show()"
      ],
      "execution_count": null,
      "outputs": []
    },
    {
      "cell_type": "code",
      "metadata": {
        "id": "1MeIERMm9kil"
      },
      "source": [
        "X_train_augmented = [image for image in X_train]\n",
        "y_train_augmented = [label for label in y_train]\n",
        "\n",
        "for dx, dy in ((1, 0), (-1, 0), (0, 1), (0, -1)):\n",
        "    for image, label in zip(X_train, y_train):\n",
        "        X_train_augmented.append(shift_image(image, dx, dy))\n",
        "        y_train_augmented.append(label)\n",
        "\n",
        "X_train_augmented = np.array(X_train_augmented)\n",
        "y_train_augmented = np.array(y_train_augmented)"
      ],
      "execution_count": null,
      "outputs": []
    },
    {
      "cell_type": "code",
      "metadata": {
        "id": "vi26Erh49kil"
      },
      "source": [
        "shuffle_idx = np.random.permutation(len(X_train_augmented))\n",
        "X_train_augmented = X_train_augmented[shuffle_idx]\n",
        "y_train_augmented = y_train_augmented[shuffle_idx]"
      ],
      "execution_count": null,
      "outputs": []
    },
    {
      "cell_type": "code",
      "metadata": {
        "id": "m7Hd7hk79kil"
      },
      "source": [
        "knn_clf = KNeighborsClassifier(**grid_search.best_params_)"
      ],
      "execution_count": null,
      "outputs": []
    },
    {
      "cell_type": "code",
      "metadata": {
        "id": "guMlWtS19kil"
      },
      "source": [
        "knn_clf.fit(X_train_augmented, y_train_augmented)"
      ],
      "execution_count": null,
      "outputs": []
    },
    {
      "cell_type": "markdown",
      "metadata": {
        "id": "OhFD5MGE9kil"
      },
      "source": [
        "**Warning**: the following cell may take close to an hour to run, depending on your hardware."
      ]
    },
    {
      "cell_type": "code",
      "metadata": {
        "id": "NsyWiBBi9kil"
      },
      "source": [
        "y_pred = knn_clf.predict(X_test)\n",
        "accuracy_score(y_test, y_pred)"
      ],
      "execution_count": null,
      "outputs": []
    },
    {
      "cell_type": "markdown",
      "metadata": {
        "id": "Ih7tweIM9kim"
      },
      "source": [
        "By simply augmenting the data, we got a 0.5% accuracy boost. :)"
      ]
    },
    {
      "cell_type": "markdown",
      "metadata": {
        "id": "iEL6J8X_9kim"
      },
      "source": [
        "## 3. Tackle the Titanic dataset"
      ]
    },
    {
      "cell_type": "markdown",
      "metadata": {
        "id": "ppWGP8fF9kim"
      },
      "source": [
        "The goal is to predict whether or not a passenger survived based on attributes such as their age, sex, passenger class, where they embarked and so on."
      ]
    },
    {
      "cell_type": "markdown",
      "metadata": {
        "id": "v796UOTR9kim"
      },
      "source": [
        "First, login to [Kaggle](https://www.kaggle.com/) and go to the [Titanic challenge](https://www.kaggle.com/c/titanic) to download `train.csv` and `test.csv`. Save them to the `datasets/titanic` directory."
      ]
    },
    {
      "cell_type": "markdown",
      "metadata": {
        "id": "uG5xIJ6N9kim"
      },
      "source": [
        "Next, let's load the data:"
      ]
    },
    {
      "cell_type": "code",
      "metadata": {
        "id": "2NqIbmFh9kim"
      },
      "source": [
        "import os\n",
        "\n",
        "TITANIC_PATH = os.path.join(\"datasets\", \"titanic\")"
      ],
      "execution_count": null,
      "outputs": []
    },
    {
      "cell_type": "code",
      "metadata": {
        "id": "K_xR1_yt9kim"
      },
      "source": [
        "import pandas as pd\n",
        "\n",
        "def load_titanic_data(filename, titanic_path=TITANIC_PATH):\n",
        "    csv_path = os.path.join(titanic_path, filename)\n",
        "    return pd.read_csv(csv_path)"
      ],
      "execution_count": null,
      "outputs": []
    },
    {
      "cell_type": "code",
      "metadata": {
        "id": "-vvaXGfv9kim"
      },
      "source": [
        "train_data = load_titanic_data(\"train.csv\")\n",
        "test_data = load_titanic_data(\"test.csv\")"
      ],
      "execution_count": null,
      "outputs": []
    },
    {
      "cell_type": "markdown",
      "metadata": {
        "id": "hwnLqjrg9kin"
      },
      "source": [
        "The data is already split into a training set and a test set. However, the test data does *not* contain the labels: your goal is to train the best model you can using the training data, then make your predictions on the test data and upload them to Kaggle to see your final score."
      ]
    },
    {
      "cell_type": "markdown",
      "metadata": {
        "id": "J2e8gJam9kin"
      },
      "source": [
        "Let's take a peek at the top few rows of the training set:"
      ]
    },
    {
      "cell_type": "code",
      "metadata": {
        "id": "_q5_n0C-9kin"
      },
      "source": [
        "train_data.head()"
      ],
      "execution_count": null,
      "outputs": []
    },
    {
      "cell_type": "markdown",
      "metadata": {
        "id": "cReHuI0U9kin"
      },
      "source": [
        "The attributes have the following meaning:\n",
        "* **Survived**: that's the target, 0 means the passenger did not survive, while 1 means he/she survived.\n",
        "* **Pclass**: passenger class.\n",
        "* **Name**, **Sex**, **Age**: self-explanatory\n",
        "* **SibSp**: how many siblings & spouses of the passenger aboard the Titanic.\n",
        "* **Parch**: how many children & parents of the passenger aboard the Titanic.\n",
        "* **Ticket**: ticket id\n",
        "* **Fare**: price paid (in pounds)\n",
        "* **Cabin**: passenger's cabin number\n",
        "* **Embarked**: where the passenger embarked the Titanic"
      ]
    },
    {
      "cell_type": "markdown",
      "metadata": {
        "id": "iPRRpN5z9kin"
      },
      "source": [
        "Let's get more info to see how much data is missing:"
      ]
    },
    {
      "cell_type": "code",
      "metadata": {
        "id": "5j9SJ2X-9kin"
      },
      "source": [
        "train_data.info()"
      ],
      "execution_count": null,
      "outputs": []
    },
    {
      "cell_type": "markdown",
      "metadata": {
        "id": "WpPFKQDn9kin"
      },
      "source": [
        "Okay, the **Age**, **Cabin** and **Embarked** attributes are sometimes null (less than 891 non-null), especially the **Cabin** (77% are null). We will ignore the **Cabin** for now and focus on the rest. The **Age** attribute has about 19% null values, so we will need to decide what to do with them. Replacing null values with the median age seems reasonable."
      ]
    },
    {
      "cell_type": "markdown",
      "metadata": {
        "id": "xGVXC2Wk9kio"
      },
      "source": [
        "The **Name** and **Ticket** attributes may have some value, but they will be a bit tricky to convert into useful numbers that a model can consume. So for now, we will ignore them."
      ]
    },
    {
      "cell_type": "markdown",
      "metadata": {
        "id": "Vy4ix9EG9kio"
      },
      "source": [
        "Let's take a look at the numerical attributes:"
      ]
    },
    {
      "cell_type": "code",
      "metadata": {
        "id": "YTqA_IO39kio"
      },
      "source": [
        "train_data.describe()"
      ],
      "execution_count": null,
      "outputs": []
    },
    {
      "cell_type": "markdown",
      "metadata": {
        "id": "S_HTZ2Ag9kio"
      },
      "source": [
        "* Yikes, only 38% **Survived**. :(  That's close enough to 40%, so accuracy will be a reasonable metric to evaluate our model.\n",
        "* The mean **Fare** was £32.20, which does not seem so expensive (but it was probably a lot of money back then).\n",
        "* The mean **Age** was less than 30 years old."
      ]
    },
    {
      "cell_type": "markdown",
      "metadata": {
        "id": "5-_1DkPY9kio"
      },
      "source": [
        "Let's check that the target is indeed 0 or 1:"
      ]
    },
    {
      "cell_type": "code",
      "metadata": {
        "id": "_puZGAw39kio"
      },
      "source": [
        "train_data[\"Survived\"].value_counts()"
      ],
      "execution_count": null,
      "outputs": []
    },
    {
      "cell_type": "markdown",
      "metadata": {
        "id": "dmoLvEbh9kio"
      },
      "source": [
        "Now let's take a quick look at all the categorical attributes:"
      ]
    },
    {
      "cell_type": "code",
      "metadata": {
        "id": "Fmy_-svM9kio"
      },
      "source": [
        "train_data[\"Pclass\"].value_counts()"
      ],
      "execution_count": null,
      "outputs": []
    },
    {
      "cell_type": "code",
      "metadata": {
        "id": "rOIMw1Yg9kip"
      },
      "source": [
        "train_data[\"Sex\"].value_counts()"
      ],
      "execution_count": null,
      "outputs": []
    },
    {
      "cell_type": "code",
      "metadata": {
        "id": "b08Z9uUh9kip"
      },
      "source": [
        "train_data[\"Embarked\"].value_counts()"
      ],
      "execution_count": null,
      "outputs": []
    },
    {
      "cell_type": "markdown",
      "metadata": {
        "id": "iiPDHDOw9kip"
      },
      "source": [
        "The Embarked attribute tells us where the passenger embarked: C=Cherbourg, Q=Queenstown, S=Southampton."
      ]
    },
    {
      "cell_type": "markdown",
      "metadata": {
        "id": "s72-AVbm9kip"
      },
      "source": [
        "**Note**: the code below uses a mix of `Pipeline`, `FeatureUnion` and a custom `DataFrameSelector` to preprocess some columns differently.  Since Scikit-Learn 0.20, it is preferable to use a `ColumnTransformer`, like in the previous chapter."
      ]
    },
    {
      "cell_type": "markdown",
      "metadata": {
        "id": "dVpqudkO9kip"
      },
      "source": [
        "Now let's build our preprocessing pipelines. We will reuse the `DataframeSelector` we built in the previous chapter to select specific attributes from the `DataFrame`:"
      ]
    },
    {
      "cell_type": "code",
      "metadata": {
        "id": "uTp3nt569kip"
      },
      "source": [
        "from sklearn.base import BaseEstimator, TransformerMixin\n",
        "\n",
        "class DataFrameSelector(BaseEstimator, TransformerMixin):\n",
        "    def __init__(self, attribute_names):\n",
        "        self.attribute_names = attribute_names\n",
        "    def fit(self, X, y=None):\n",
        "        return self\n",
        "    def transform(self, X):\n",
        "        return X[self.attribute_names]"
      ],
      "execution_count": null,
      "outputs": []
    },
    {
      "cell_type": "markdown",
      "metadata": {
        "id": "cI_CiECe9kip"
      },
      "source": [
        "Let's build the pipeline for the numerical attributes:"
      ]
    },
    {
      "cell_type": "code",
      "metadata": {
        "id": "DhjHA_Ay9kiq"
      },
      "source": [
        "from sklearn.pipeline import Pipeline\n",
        "from sklearn.impute import SimpleImputer\n",
        "\n",
        "num_pipeline = Pipeline([\n",
        "        (\"select_numeric\", DataFrameSelector([\"Age\", \"SibSp\", \"Parch\", \"Fare\"])),\n",
        "        (\"imputer\", SimpleImputer(strategy=\"median\")),\n",
        "    ])"
      ],
      "execution_count": null,
      "outputs": []
    },
    {
      "cell_type": "code",
      "metadata": {
        "id": "FlCwxcgo9kiq"
      },
      "source": [
        "num_pipeline.fit_transform(train_data)"
      ],
      "execution_count": null,
      "outputs": []
    },
    {
      "cell_type": "markdown",
      "metadata": {
        "id": "DOErlTK09kiq"
      },
      "source": [
        "We will also need an imputer for the string categorical columns (the regular `SimpleImputer` does not work on those):"
      ]
    },
    {
      "cell_type": "code",
      "metadata": {
        "id": "4s2yZohd9kiq"
      },
      "source": [
        "# Inspired from stackoverflow.com/questions/25239958\n",
        "class MostFrequentImputer(BaseEstimator, TransformerMixin):\n",
        "    def fit(self, X, y=None):\n",
        "        self.most_frequent_ = pd.Series([X[c].value_counts().index[0] for c in X],\n",
        "                                        index=X.columns)\n",
        "        return self\n",
        "    def transform(self, X, y=None):\n",
        "        return X.fillna(self.most_frequent_)"
      ],
      "execution_count": null,
      "outputs": []
    },
    {
      "cell_type": "code",
      "metadata": {
        "id": "Nw6ZgE6t9kiq"
      },
      "source": [
        "from sklearn.preprocessing import OneHotEncoder"
      ],
      "execution_count": null,
      "outputs": []
    },
    {
      "cell_type": "markdown",
      "metadata": {
        "id": "6n_Vvas79kiq"
      },
      "source": [
        "Now we can build the pipeline for the categorical attributes:"
      ]
    },
    {
      "cell_type": "code",
      "metadata": {
        "id": "XrHtSk_E9kir"
      },
      "source": [
        "cat_pipeline = Pipeline([\n",
        "        (\"select_cat\", DataFrameSelector([\"Pclass\", \"Sex\", \"Embarked\"])),\n",
        "        (\"imputer\", MostFrequentImputer()),\n",
        "        (\"cat_encoder\", OneHotEncoder(sparse=False)),\n",
        "    ])"
      ],
      "execution_count": null,
      "outputs": []
    },
    {
      "cell_type": "code",
      "metadata": {
        "id": "1uezYE6N9kir"
      },
      "source": [
        "cat_pipeline.fit_transform(train_data)"
      ],
      "execution_count": null,
      "outputs": []
    },
    {
      "cell_type": "markdown",
      "metadata": {
        "id": "T8HTWxJT9kir"
      },
      "source": [
        "Finally, let's join the numerical and categorical pipelines:"
      ]
    },
    {
      "cell_type": "code",
      "metadata": {
        "id": "BFKaxW859kir"
      },
      "source": [
        "from sklearn.pipeline import FeatureUnion\n",
        "preprocess_pipeline = FeatureUnion(transformer_list=[\n",
        "        (\"num_pipeline\", num_pipeline),\n",
        "        (\"cat_pipeline\", cat_pipeline),\n",
        "    ])"
      ],
      "execution_count": null,
      "outputs": []
    },
    {
      "cell_type": "markdown",
      "metadata": {
        "id": "FG-Wk-Yb9kir"
      },
      "source": [
        "Cool! Now we have a nice preprocessing pipeline that takes the raw data and outputs numerical input features that we can feed to any Machine Learning model we want."
      ]
    },
    {
      "cell_type": "code",
      "metadata": {
        "id": "t_joUES_9kir"
      },
      "source": [
        "X_train = preprocess_pipeline.fit_transform(train_data)\n",
        "X_train"
      ],
      "execution_count": null,
      "outputs": []
    },
    {
      "cell_type": "markdown",
      "metadata": {
        "id": "5jFJwdpl9kir"
      },
      "source": [
        "Let's not forget to get the labels:"
      ]
    },
    {
      "cell_type": "code",
      "metadata": {
        "id": "dfi8NLt29kis"
      },
      "source": [
        "y_train = train_data[\"Survived\"]"
      ],
      "execution_count": null,
      "outputs": []
    },
    {
      "cell_type": "markdown",
      "metadata": {
        "id": "To22TPaS9kis"
      },
      "source": [
        "We are now ready to train a classifier. Let's start with an `SVC`:"
      ]
    },
    {
      "cell_type": "code",
      "metadata": {
        "id": "M_rVxXoz9kis"
      },
      "source": [
        "from sklearn.svm import SVC\n",
        "\n",
        "svm_clf = SVC(gamma=\"auto\")\n",
        "svm_clf.fit(X_train, y_train)"
      ],
      "execution_count": null,
      "outputs": []
    },
    {
      "cell_type": "markdown",
      "metadata": {
        "id": "R-IOQSmt9kis"
      },
      "source": [
        "Great, our model is trained, let's use it to make predictions on the test set:"
      ]
    },
    {
      "cell_type": "code",
      "metadata": {
        "id": "VH1y5Mq79kis"
      },
      "source": [
        "X_test = preprocess_pipeline.transform(test_data)\n",
        "y_pred = svm_clf.predict(X_test)"
      ],
      "execution_count": null,
      "outputs": []
    },
    {
      "cell_type": "markdown",
      "metadata": {
        "id": "QxSMSqUX9kis"
      },
      "source": [
        "And now we could just build a CSV file with these predictions (respecting the format excepted by Kaggle), then upload it and hope for the best. But wait! We can do better than hope. Why don't we use cross-validation to have an idea of how good our model is?"
      ]
    },
    {
      "cell_type": "code",
      "metadata": {
        "id": "Abj7EbUU9kis"
      },
      "source": [
        "from sklearn.model_selection import cross_val_score\n",
        "\n",
        "svm_scores = cross_val_score(svm_clf, X_train, y_train, cv=10)\n",
        "svm_scores.mean()"
      ],
      "execution_count": null,
      "outputs": []
    },
    {
      "cell_type": "markdown",
      "metadata": {
        "id": "lx3scDTc9kis"
      },
      "source": [
        "Okay, over 73% accuracy, clearly better than random chance, but it's not a great score. Looking at the [leaderboard](https://www.kaggle.com/c/titanic/leaderboard) for the Titanic competition on Kaggle, you can see that you need to reach above 80% accuracy to be within the top 10% Kagglers. Some reached 100%, but since you can easily find the [list of victims](https://www.encyclopedia-titanica.org/titanic-victims/) of the Titanic, it seems likely that there was little Machine Learning involved in their performance! ;-) So let's try to build a model that reaches 80% accuracy."
      ]
    },
    {
      "cell_type": "markdown",
      "metadata": {
        "id": "Iu6ZKsZj9kit"
      },
      "source": [
        "Let's try a `RandomForestClassifier`:"
      ]
    },
    {
      "cell_type": "code",
      "metadata": {
        "id": "a3rywwfH9kit"
      },
      "source": [
        "from sklearn.ensemble import RandomForestClassifier\n",
        "\n",
        "forest_clf = RandomForestClassifier(n_estimators=100, random_state=42)\n",
        "forest_scores = cross_val_score(forest_clf, X_train, y_train, cv=10)\n",
        "forest_scores.mean()"
      ],
      "execution_count": null,
      "outputs": []
    },
    {
      "cell_type": "markdown",
      "metadata": {
        "id": "nKvDKKWq9kit"
      },
      "source": [
        "That's much better!"
      ]
    },
    {
      "cell_type": "markdown",
      "metadata": {
        "id": "uq3SIknS9kit"
      },
      "source": [
        "Instead of just looking at the mean accuracy across the 10 cross-validation folds, let's plot all 10 scores for each model, along with a box plot highlighting the lower and upper quartiles, and \"whiskers\" showing the extent of the scores (thanks to Nevin Yilmaz for suggesting this visualization). Note that the `boxplot()` function detects outliers (called \"fliers\") and does not include them within the whiskers. Specifically, if the lower quartile is $Q_1$ and the upper quartile is $Q_3$, then the interquartile range $IQR = Q_3 - Q_1$ (this is the box's height), and any score lower than $Q_1 - 1.5 \\times IQR$ is a flier, and so is any score greater than $Q3 + 1.5 \\times IQR$."
      ]
    },
    {
      "cell_type": "code",
      "metadata": {
        "id": "dxV5f5Bz9kit"
      },
      "source": [
        "plt.figure(figsize=(8, 4))\n",
        "plt.plot([1]*10, svm_scores, \".\")\n",
        "plt.plot([2]*10, forest_scores, \".\")\n",
        "plt.boxplot([svm_scores, forest_scores], labels=(\"SVM\",\"Random Forest\"))\n",
        "plt.ylabel(\"Accuracy\", fontsize=14)\n",
        "plt.show()"
      ],
      "execution_count": null,
      "outputs": []
    },
    {
      "cell_type": "markdown",
      "metadata": {
        "id": "Rndy3rPq9kit"
      },
      "source": [
        "To improve this result further, you could:\n",
        "* Compare many more models and tune hyperparameters using cross validation and grid search,\n",
        "* Do more feature engineering, for example:\n",
        "  * replace **SibSp** and **Parch** with their sum,\n",
        "  * try to identify parts of names that correlate well with the **Survived** attribute (e.g. if the name contains \"Countess\", then survival seems more likely),\n",
        "* try to convert numerical attributes to categorical attributes: for example, different age groups had very different survival rates (see below), so it may help to create an age bucket category and use it instead of the age. Similarly, it may be useful to have a special category for people traveling alone since only 30% of them survived (see below)."
      ]
    },
    {
      "cell_type": "code",
      "metadata": {
        "id": "s0agPDP29kit"
      },
      "source": [
        "train_data[\"AgeBucket\"] = train_data[\"Age\"] // 15 * 15\n",
        "train_data[[\"AgeBucket\", \"Survived\"]].groupby(['AgeBucket']).mean()"
      ],
      "execution_count": null,
      "outputs": []
    },
    {
      "cell_type": "code",
      "metadata": {
        "id": "-7JyAERc9kiu"
      },
      "source": [
        "train_data[\"RelativesOnboard\"] = train_data[\"SibSp\"] + train_data[\"Parch\"]\n",
        "train_data[[\"RelativesOnboard\", \"Survived\"]].groupby(['RelativesOnboard']).mean()"
      ],
      "execution_count": null,
      "outputs": []
    },
    {
      "cell_type": "markdown",
      "metadata": {
        "id": "SFMRuz4s9kiu"
      },
      "source": [
        "## 4. Spam classifier"
      ]
    },
    {
      "cell_type": "markdown",
      "metadata": {
        "id": "hndt87_c9kiu"
      },
      "source": [
        "First, let's fetch the data:"
      ]
    },
    {
      "cell_type": "code",
      "metadata": {
        "id": "8sp1yqXR9kiu"
      },
      "source": [
        "import os\n",
        "import tarfile\n",
        "import urllib.request\n",
        "\n",
        "DOWNLOAD_ROOT = \"http://spamassassin.apache.org/old/publiccorpus/\"\n",
        "HAM_URL = DOWNLOAD_ROOT + \"20030228_easy_ham.tar.bz2\"\n",
        "SPAM_URL = DOWNLOAD_ROOT + \"20030228_spam.tar.bz2\"\n",
        "SPAM_PATH = os.path.join(\"datasets\", \"spam\")\n",
        "\n",
        "def fetch_spam_data(ham_url=HAM_URL, spam_url=SPAM_URL, spam_path=SPAM_PATH):\n",
        "    if not os.path.isdir(spam_path):\n",
        "        os.makedirs(spam_path)\n",
        "    for filename, url in ((\"ham.tar.bz2\", ham_url), (\"spam.tar.bz2\", spam_url)):\n",
        "        path = os.path.join(spam_path, filename)\n",
        "        if not os.path.isfile(path):\n",
        "            urllib.request.urlretrieve(url, path)\n",
        "        tar_bz2_file = tarfile.open(path)\n",
        "        tar_bz2_file.extractall(path=spam_path)\n",
        "        tar_bz2_file.close()"
      ],
      "execution_count": null,
      "outputs": []
    },
    {
      "cell_type": "code",
      "metadata": {
        "id": "geVOukvb9kiu"
      },
      "source": [
        "fetch_spam_data()"
      ],
      "execution_count": null,
      "outputs": []
    },
    {
      "cell_type": "markdown",
      "metadata": {
        "id": "3qXQylGH9kiu"
      },
      "source": [
        "Next, let's load all the emails:"
      ]
    },
    {
      "cell_type": "code",
      "metadata": {
        "id": "PWYM1ymk9kiu"
      },
      "source": [
        "HAM_DIR = os.path.join(SPAM_PATH, \"easy_ham\")\n",
        "SPAM_DIR = os.path.join(SPAM_PATH, \"spam\")\n",
        "ham_filenames = [name for name in sorted(os.listdir(HAM_DIR)) if len(name) > 20]\n",
        "spam_filenames = [name for name in sorted(os.listdir(SPAM_DIR)) if len(name) > 20]"
      ],
      "execution_count": null,
      "outputs": []
    },
    {
      "cell_type": "code",
      "metadata": {
        "id": "m4wG6SIq9kiu"
      },
      "source": [
        "len(ham_filenames)"
      ],
      "execution_count": null,
      "outputs": []
    },
    {
      "cell_type": "code",
      "metadata": {
        "id": "c2BdUnQP9kiu"
      },
      "source": [
        "len(spam_filenames)"
      ],
      "execution_count": null,
      "outputs": []
    },
    {
      "cell_type": "markdown",
      "metadata": {
        "id": "bVgAAUac9kiv"
      },
      "source": [
        "We can use Python's `email` module to parse these emails (this handles headers, encoding, and so on):"
      ]
    },
    {
      "cell_type": "code",
      "metadata": {
        "id": "P3LNjzXf9kiv"
      },
      "source": [
        "import email\n",
        "import email.policy\n",
        "\n",
        "def load_email(is_spam, filename, spam_path=SPAM_PATH):\n",
        "    directory = \"spam\" if is_spam else \"easy_ham\"\n",
        "    with open(os.path.join(spam_path, directory, filename), \"rb\") as f:\n",
        "        return email.parser.BytesParser(policy=email.policy.default).parse(f)"
      ],
      "execution_count": null,
      "outputs": []
    },
    {
      "cell_type": "code",
      "metadata": {
        "id": "n8y_OSjU9kiv"
      },
      "source": [
        "ham_emails = [load_email(is_spam=False, filename=name) for name in ham_filenames]\n",
        "spam_emails = [load_email(is_spam=True, filename=name) for name in spam_filenames]"
      ],
      "execution_count": null,
      "outputs": []
    },
    {
      "cell_type": "markdown",
      "metadata": {
        "id": "Nf5a82AR9kiv"
      },
      "source": [
        "Let's look at one example of ham and one example of spam, to get a feel of what the data looks like:"
      ]
    },
    {
      "cell_type": "code",
      "metadata": {
        "id": "2sXxIATk9kiv"
      },
      "source": [
        "print(ham_emails[1].get_content().strip())"
      ],
      "execution_count": null,
      "outputs": []
    },
    {
      "cell_type": "code",
      "metadata": {
        "id": "TjJSREkL9kiv"
      },
      "source": [
        "print(spam_emails[6].get_content().strip())"
      ],
      "execution_count": null,
      "outputs": []
    },
    {
      "cell_type": "markdown",
      "metadata": {
        "id": "Ts_2c3FY9kiv"
      },
      "source": [
        "Some emails are actually multipart, with images and attachments (which can have their own attachments). Let's look at the various types of structures we have:"
      ]
    },
    {
      "cell_type": "code",
      "metadata": {
        "id": "rYz-W7am9kiv"
      },
      "source": [
        "def get_email_structure(email):\n",
        "    if isinstance(email, str):\n",
        "        return email\n",
        "    payload = email.get_payload()\n",
        "    if isinstance(payload, list):\n",
        "        return \"multipart({})\".format(\", \".join([\n",
        "            get_email_structure(sub_email)\n",
        "            for sub_email in payload\n",
        "        ]))\n",
        "    else:\n",
        "        return email.get_content_type()"
      ],
      "execution_count": null,
      "outputs": []
    },
    {
      "cell_type": "code",
      "metadata": {
        "id": "3MTS5Y3A9kiv"
      },
      "source": [
        "from collections import Counter\n",
        "\n",
        "def structures_counter(emails):\n",
        "    structures = Counter()\n",
        "    for email in emails:\n",
        "        structure = get_email_structure(email)\n",
        "        structures[structure] += 1\n",
        "    return structures"
      ],
      "execution_count": null,
      "outputs": []
    },
    {
      "cell_type": "code",
      "metadata": {
        "id": "0xn8nzDQ9kiw"
      },
      "source": [
        "structures_counter(ham_emails).most_common()"
      ],
      "execution_count": null,
      "outputs": []
    },
    {
      "cell_type": "code",
      "metadata": {
        "id": "c9-JbzgJ9kiw"
      },
      "source": [
        "structures_counter(spam_emails).most_common()"
      ],
      "execution_count": null,
      "outputs": []
    },
    {
      "cell_type": "markdown",
      "metadata": {
        "id": "x40BCCFT9kiw"
      },
      "source": [
        "It seems that the ham emails are more often plain text, while spam has quite a lot of HTML. Moreover, quite a few ham emails are signed using PGP, while no spam is. In short, it seems that the email structure is useful information to have."
      ]
    },
    {
      "cell_type": "markdown",
      "metadata": {
        "id": "c735IPTy9kiw"
      },
      "source": [
        "Now let's take a look at the email headers:"
      ]
    },
    {
      "cell_type": "code",
      "metadata": {
        "id": "2padhF8U9kiw"
      },
      "source": [
        "for header, value in spam_emails[0].items():\n",
        "    print(header,\":\",value)"
      ],
      "execution_count": null,
      "outputs": []
    },
    {
      "cell_type": "markdown",
      "metadata": {
        "id": "yyIdsQtf9kiw"
      },
      "source": [
        "There's probably a lot of useful information in there, such as the sender's email address (12a1mailbot1@web.de looks fishy), but we will just focus on the `Subject` header:"
      ]
    },
    {
      "cell_type": "code",
      "metadata": {
        "id": "GuoMIuMq9kiw"
      },
      "source": [
        "spam_emails[0][\"Subject\"]"
      ],
      "execution_count": null,
      "outputs": []
    },
    {
      "cell_type": "markdown",
      "metadata": {
        "id": "jJHEiLAw9kiw"
      },
      "source": [
        "Okay, before we learn too much about the data, let's not forget to split it into a training set and a test set:"
      ]
    },
    {
      "cell_type": "code",
      "metadata": {
        "id": "bG9XdlMc9kix"
      },
      "source": [
        "import numpy as np\n",
        "from sklearn.model_selection import train_test_split\n",
        "\n",
        "X = np.array(ham_emails + spam_emails, dtype=object)\n",
        "y = np.array([0] * len(ham_emails) + [1] * len(spam_emails))\n",
        "\n",
        "X_train, X_test, y_train, y_test = train_test_split(X, y, test_size=0.2, random_state=42)"
      ],
      "execution_count": null,
      "outputs": []
    },
    {
      "cell_type": "markdown",
      "metadata": {
        "id": "a2eBlOfs9kix"
      },
      "source": [
        "Okay, let's start writing the preprocessing functions. First, we will need a function to convert HTML to plain text. Arguably the best way to do this would be to use the great [BeautifulSoup](https://www.crummy.com/software/BeautifulSoup/) library, but I would like to avoid adding another dependency to this project, so let's hack a quick & dirty solution using regular expressions (at the risk of [un̨ho͞ly radiańcé destro҉ying all enli̍̈́̂̈́ghtenment](https://stackoverflow.com/a/1732454/38626)). The following function first drops the `<head>` section, then converts all `<a>` tags to the word HYPERLINK, then it gets rid of all HTML tags, leaving only the plain text. For readability, it also replaces multiple newlines with single newlines, and finally it unescapes html entities (such as `&gt;` or `&nbsp;`):"
      ]
    },
    {
      "cell_type": "code",
      "metadata": {
        "id": "XZ0vz39P9kix"
      },
      "source": [
        "import re\n",
        "from html import unescape\n",
        "\n",
        "def html_to_plain_text(html):\n",
        "    text = re.sub('<head.*?>.*?</head>', '', html, flags=re.M | re.S | re.I)\n",
        "    text = re.sub('<a\\s.*?>', ' HYPERLINK ', text, flags=re.M | re.S | re.I)\n",
        "    text = re.sub('<.*?>', '', text, flags=re.M | re.S)\n",
        "    text = re.sub(r'(\\s*\\n)+', '\\n', text, flags=re.M | re.S)\n",
        "    return unescape(text)"
      ],
      "execution_count": null,
      "outputs": []
    },
    {
      "cell_type": "markdown",
      "metadata": {
        "id": "Dfh8MTYo9kix"
      },
      "source": [
        "Let's see if it works. This is HTML spam:"
      ]
    },
    {
      "cell_type": "code",
      "metadata": {
        "id": "alhFMctw9kix"
      },
      "source": [
        "html_spam_emails = [email for email in X_train[y_train==1]\n",
        "                    if get_email_structure(email) == \"text/html\"]\n",
        "sample_html_spam = html_spam_emails[7]\n",
        "print(sample_html_spam.get_content().strip()[:1000], \"...\")"
      ],
      "execution_count": null,
      "outputs": []
    },
    {
      "cell_type": "markdown",
      "metadata": {
        "id": "tH81V2_R9kiy"
      },
      "source": [
        "And this is the resulting plain text:"
      ]
    },
    {
      "cell_type": "code",
      "metadata": {
        "id": "HhmJKGKU9kiy"
      },
      "source": [
        "print(html_to_plain_text(sample_html_spam.get_content())[:1000], \"...\")"
      ],
      "execution_count": null,
      "outputs": []
    },
    {
      "cell_type": "markdown",
      "metadata": {
        "id": "tYHcBfJf9kiy"
      },
      "source": [
        "Great! Now let's write a function that takes an email as input and returns its content as plain text, whatever its format is:"
      ]
    },
    {
      "cell_type": "code",
      "metadata": {
        "id": "EGAK30ic9kiy"
      },
      "source": [
        "def email_to_text(email):\n",
        "    html = None\n",
        "    for part in email.walk():\n",
        "        ctype = part.get_content_type()\n",
        "        if not ctype in (\"text/plain\", \"text/html\"):\n",
        "            continue\n",
        "        try:\n",
        "            content = part.get_content()\n",
        "        except: # in case of encoding issues\n",
        "            content = str(part.get_payload())\n",
        "        if ctype == \"text/plain\":\n",
        "            return content\n",
        "        else:\n",
        "            html = content\n",
        "    if html:\n",
        "        return html_to_plain_text(html)"
      ],
      "execution_count": null,
      "outputs": []
    },
    {
      "cell_type": "code",
      "metadata": {
        "id": "-4mrxVK79kiy"
      },
      "source": [
        "print(email_to_text(sample_html_spam)[:100], \"...\")"
      ],
      "execution_count": null,
      "outputs": []
    },
    {
      "cell_type": "markdown",
      "metadata": {
        "id": "uCG4XaOR9kiy"
      },
      "source": [
        "Let's throw in some stemming! For this to work, you need to install the Natural Language Toolkit ([NLTK](http://www.nltk.org/)). It's as simple as running the following command (don't forget to activate your virtualenv first; if you don't have one, you will likely need administrator rights, or use the `--user` option):\n",
        "\n",
        "`$ pip3 install nltk`"
      ]
    },
    {
      "cell_type": "code",
      "metadata": {
        "id": "UxPmuE419kiy"
      },
      "source": [
        "try:\n",
        "    import nltk\n",
        "\n",
        "    stemmer = nltk.PorterStemmer()\n",
        "    for word in (\"Computations\", \"Computation\", \"Computing\", \"Computed\", \"Compute\", \"Compulsive\"):\n",
        "        print(word, \"=>\", stemmer.stem(word))\n",
        "except ImportError:\n",
        "    print(\"Error: stemming requires the NLTK module.\")\n",
        "    stemmer = None"
      ],
      "execution_count": null,
      "outputs": []
    },
    {
      "cell_type": "markdown",
      "metadata": {
        "id": "075ZV8pV9kiy"
      },
      "source": [
        "We will also need a way to replace URLs with the word \"URL\". For this, we could use hard core [regular expressions](https://mathiasbynens.be/demo/url-regex) but we will just use the [urlextract](https://github.com/lipoja/URLExtract) library. You can install it with the following command (don't forget to activate your virtualenv first; if you don't have one, you will likely need administrator rights, or use the `--user` option):\n",
        "\n",
        "`$ pip3 install urlextract`"
      ]
    },
    {
      "cell_type": "code",
      "metadata": {
        "id": "clXSa8nh9kiy"
      },
      "source": [
        "# if running this notebook on Colab or Kaggle, we just pip install urlextract\n",
        "if IS_COLAB or IS_KAGGLE:\n",
        "    !pip install -q -U urlextract"
      ],
      "execution_count": null,
      "outputs": []
    },
    {
      "cell_type": "code",
      "metadata": {
        "id": "_NWRCKth9kiz"
      },
      "source": [
        "try:\n",
        "    import urlextract # may require an Internet connection to download root domain names\n",
        "    \n",
        "    url_extractor = urlextract.URLExtract()\n",
        "    print(url_extractor.find_urls(\"Will it detect github.com and https://youtu.be/7Pq-S557XQU?t=3m32s\"))\n",
        "except ImportError:\n",
        "    print(\"Error: replacing URLs requires the urlextract module.\")\n",
        "    url_extractor = None"
      ],
      "execution_count": null,
      "outputs": []
    },
    {
      "cell_type": "markdown",
      "metadata": {
        "id": "d-zr8rzw9kiz"
      },
      "source": [
        "We are ready to put all this together into a transformer that we will use to convert emails to word counters. Note that we split sentences into words using Python's `split()` method, which uses whitespaces for word boundaries. This works for many written languages, but not all. For example, Chinese and Japanese scripts generally don't use spaces between words, and Vietnamese often uses spaces even between syllables. It's okay in this exercise, because the dataset is (mostly) in English."
      ]
    },
    {
      "cell_type": "code",
      "metadata": {
        "id": "2DK288pP9kiz"
      },
      "source": [
        "from sklearn.base import BaseEstimator, TransformerMixin\n",
        "\n",
        "class EmailToWordCounterTransformer(BaseEstimator, TransformerMixin):\n",
        "    def __init__(self, strip_headers=True, lower_case=True, remove_punctuation=True,\n",
        "                 replace_urls=True, replace_numbers=True, stemming=True):\n",
        "        self.strip_headers = strip_headers\n",
        "        self.lower_case = lower_case\n",
        "        self.remove_punctuation = remove_punctuation\n",
        "        self.replace_urls = replace_urls\n",
        "        self.replace_numbers = replace_numbers\n",
        "        self.stemming = stemming\n",
        "    def fit(self, X, y=None):\n",
        "        return self\n",
        "    def transform(self, X, y=None):\n",
        "        X_transformed = []\n",
        "        for email in X:\n",
        "            text = email_to_text(email) or \"\"\n",
        "            if self.lower_case:\n",
        "                text = text.lower()\n",
        "            if self.replace_urls and url_extractor is not None:\n",
        "                urls = list(set(url_extractor.find_urls(text)))\n",
        "                urls.sort(key=lambda url: len(url), reverse=True)\n",
        "                for url in urls:\n",
        "                    text = text.replace(url, \" URL \")\n",
        "            if self.replace_numbers:\n",
        "                text = re.sub(r'\\d+(?:\\.\\d*)?(?:[eE][+-]?\\d+)?', 'NUMBER', text)\n",
        "            if self.remove_punctuation:\n",
        "                text = re.sub(r'\\W+', ' ', text, flags=re.M)\n",
        "            word_counts = Counter(text.split())\n",
        "            if self.stemming and stemmer is not None:\n",
        "                stemmed_word_counts = Counter()\n",
        "                for word, count in word_counts.items():\n",
        "                    stemmed_word = stemmer.stem(word)\n",
        "                    stemmed_word_counts[stemmed_word] += count\n",
        "                word_counts = stemmed_word_counts\n",
        "            X_transformed.append(word_counts)\n",
        "        return np.array(X_transformed)"
      ],
      "execution_count": null,
      "outputs": []
    },
    {
      "cell_type": "markdown",
      "metadata": {
        "id": "F-b9xUfb9kiz"
      },
      "source": [
        "Let's try this transformer on a few emails:"
      ]
    },
    {
      "cell_type": "code",
      "metadata": {
        "id": "krx182ex9kiz"
      },
      "source": [
        "X_few = X_train[:3]\n",
        "X_few_wordcounts = EmailToWordCounterTransformer().fit_transform(X_few)\n",
        "X_few_wordcounts"
      ],
      "execution_count": null,
      "outputs": []
    },
    {
      "cell_type": "markdown",
      "metadata": {
        "id": "6KopBTg19kiz"
      },
      "source": [
        "This looks about right!"
      ]
    },
    {
      "cell_type": "markdown",
      "metadata": {
        "id": "_E5X8jIq9kiz"
      },
      "source": [
        "Now we have the word counts, and we need to convert them to vectors. For this, we will build another transformer whose `fit()` method will build the vocabulary (an ordered list of the most common words) and whose `transform()` method will use the vocabulary to convert word counts to vectors. The output is a sparse matrix."
      ]
    },
    {
      "cell_type": "code",
      "metadata": {
        "id": "Ih1WjocV9kiz"
      },
      "source": [
        "from scipy.sparse import csr_matrix\n",
        "\n",
        "class WordCounterToVectorTransformer(BaseEstimator, TransformerMixin):\n",
        "    def __init__(self, vocabulary_size=1000):\n",
        "        self.vocabulary_size = vocabulary_size\n",
        "    def fit(self, X, y=None):\n",
        "        total_count = Counter()\n",
        "        for word_count in X:\n",
        "            for word, count in word_count.items():\n",
        "                total_count[word] += min(count, 10)\n",
        "        most_common = total_count.most_common()[:self.vocabulary_size]\n",
        "        self.vocabulary_ = {word: index + 1 for index, (word, count) in enumerate(most_common)}\n",
        "        return self\n",
        "    def transform(self, X, y=None):\n",
        "        rows = []\n",
        "        cols = []\n",
        "        data = []\n",
        "        for row, word_count in enumerate(X):\n",
        "            for word, count in word_count.items():\n",
        "                rows.append(row)\n",
        "                cols.append(self.vocabulary_.get(word, 0))\n",
        "                data.append(count)\n",
        "        return csr_matrix((data, (rows, cols)), shape=(len(X), self.vocabulary_size + 1))"
      ],
      "execution_count": null,
      "outputs": []
    },
    {
      "cell_type": "code",
      "metadata": {
        "id": "wjrxsGhJ9ki0"
      },
      "source": [
        "vocab_transformer = WordCounterToVectorTransformer(vocabulary_size=10)\n",
        "X_few_vectors = vocab_transformer.fit_transform(X_few_wordcounts)\n",
        "X_few_vectors"
      ],
      "execution_count": null,
      "outputs": []
    },
    {
      "cell_type": "code",
      "metadata": {
        "id": "J-TSRr1-9ki0"
      },
      "source": [
        "X_few_vectors.toarray()"
      ],
      "execution_count": null,
      "outputs": []
    },
    {
      "cell_type": "markdown",
      "metadata": {
        "id": "VTQZbmi29ki0"
      },
      "source": [
        "What does this matrix mean? Well, the 99 in the second row, first column, means that the second email contains 99 words that are not part of the vocabulary. The 11 next to it means that the first word in the vocabulary is present 11 times in this email. The 9 next to it means that the second word is present 9 times, and so on. You can look at the vocabulary to know which words we are talking about. The first word is \"the\", the second word is \"of\", etc."
      ]
    },
    {
      "cell_type": "code",
      "metadata": {
        "id": "bWwmh4CY9ki0"
      },
      "source": [
        "vocab_transformer.vocabulary_"
      ],
      "execution_count": null,
      "outputs": []
    },
    {
      "cell_type": "markdown",
      "metadata": {
        "id": "C6L4dzXo9ki0"
      },
      "source": [
        "We are now ready to train our first spam classifier! Let's transform the whole dataset:"
      ]
    },
    {
      "cell_type": "code",
      "metadata": {
        "id": "V0ik9e9H9ki0"
      },
      "source": [
        "from sklearn.pipeline import Pipeline\n",
        "\n",
        "preprocess_pipeline = Pipeline([\n",
        "    (\"email_to_wordcount\", EmailToWordCounterTransformer()),\n",
        "    (\"wordcount_to_vector\", WordCounterToVectorTransformer()),\n",
        "])\n",
        "\n",
        "X_train_transformed = preprocess_pipeline.fit_transform(X_train)"
      ],
      "execution_count": null,
      "outputs": []
    },
    {
      "cell_type": "markdown",
      "metadata": {
        "id": "-Qk33cME9ki0"
      },
      "source": [
        "**Note**: to be future-proof, we set `solver=\"lbfgs\"` since this will be the default value in Scikit-Learn 0.22."
      ]
    },
    {
      "cell_type": "code",
      "metadata": {
        "id": "r5yzjjbm9ki0"
      },
      "source": [
        "from sklearn.linear_model import LogisticRegression\n",
        "from sklearn.model_selection import cross_val_score\n",
        "\n",
        "log_clf = LogisticRegression(solver=\"lbfgs\", max_iter=1000, random_state=42)\n",
        "score = cross_val_score(log_clf, X_train_transformed, y_train, cv=3, verbose=3)\n",
        "score.mean()"
      ],
      "execution_count": null,
      "outputs": []
    },
    {
      "cell_type": "markdown",
      "metadata": {
        "id": "oD2iYzIa9ki1"
      },
      "source": [
        "Over 98.5%, not bad for a first try! :) However, remember that we are using the \"easy\" dataset. You can try with the harder datasets, the results won't be so amazing. You would have to try multiple models, select the best ones and fine-tune them using cross-validation, and so on.\n",
        "\n",
        "But you get the picture, so let's stop now, and just print out the precision/recall we get on the test set:"
      ]
    },
    {
      "cell_type": "code",
      "metadata": {
        "id": "g52KFynl9ki1"
      },
      "source": [
        "from sklearn.metrics import precision_score, recall_score\n",
        "\n",
        "X_test_transformed = preprocess_pipeline.transform(X_test)\n",
        "\n",
        "log_clf = LogisticRegression(solver=\"lbfgs\", max_iter=1000, random_state=42)\n",
        "log_clf.fit(X_train_transformed, y_train)\n",
        "\n",
        "y_pred = log_clf.predict(X_test_transformed)\n",
        "\n",
        "print(\"Precision: {:.2f}%\".format(100 * precision_score(y_test, y_pred)))\n",
        "print(\"Recall: {:.2f}%\".format(100 * recall_score(y_test, y_pred)))"
      ],
      "execution_count": null,
      "outputs": []
    },
    {
      "cell_type": "code",
      "metadata": {
        "id": "IOgVnlNd9ki1"
      },
      "source": [
        ""
      ],
      "execution_count": null,
      "outputs": []
    }
  ]
}