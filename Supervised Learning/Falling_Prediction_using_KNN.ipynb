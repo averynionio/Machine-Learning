{
  "nbformat": 4,
  "nbformat_minor": 0,
  "metadata": {
    "colab": {
      "name": "Falling Prediction using KNN.ipynb",
      "provenance": [],
      "collapsed_sections": [],
      "authorship_tag": "ABX9TyOMJz8kukRIOE8B4+Cg1olw",
      "include_colab_link": true
    },
    "kernelspec": {
      "name": "python3",
      "display_name": "Python 3"
    },
    "language_info": {
      "name": "python"
    }
  },
  "cells": [
    {
      "cell_type": "markdown",
      "metadata": {
        "id": "view-in-github",
        "colab_type": "text"
      },
      "source": [
        "<a href=\"https://colab.research.google.com/github/averynionio/Machine-Learning/blob/main/Supervised%20Learning/Falling_Prediction_using_KNN.ipynb\" target=\"_parent\"><img src=\"https://colab.research.google.com/assets/colab-badge.svg\" alt=\"Open In Colab\"/></a>"
      ]
    },
    {
      "cell_type": "code",
      "metadata": {
        "id": "hvHJ18iz6bre"
      },
      "source": [
        "# -*- coding: utf-8 -*-\n",
        "# Example of making predictions\n",
        "from math import sqrt\n",
        "# calculate the Euclidean distance between two vectors\n",
        "#     Euclidean Distance = sqrt(sum i to N (x1_i – x2_i)^2)\n",
        "\n",
        "#result:\n",
        "#9.486832980505138\n",
        "#9.1104335791443\n",
        "#9.486832980505138\n",
        "#8.06225774829855\n",
        "#2.449489742783178\n",
        "#2.6457513110645907\n",
        "#3.1622776601683795\n",
        "#2.449489742783178\n",
        "\n",
        "def euclidean_distance(row1, row2):\n",
        "\tdistance = 0.0\n",
        "\tfor i in range(len(row1)-1):\n",
        "\t\tdistance += (row1[i] - row2[i])**2\n",
        "\n",
        "\treturn sqrt(distance)"
      ],
      "execution_count": 1,
      "outputs": []
    },
    {
      "cell_type": "code",
      "metadata": {
        "id": "IaehHg3SfQBl"
      },
      "source": [
        "# Locate the most similar neighbors\n",
        "# Result\n",
        "# [6, 5, 7, 5, 6, 7, 1]\n",
        "# [7, 6, 7, 6, 5, 6, 1]\n",
        "# [5, 6, 6, 6, 5, 7, 1]\n",
        "def get_neighbors(train, test_row, num_neighbors):\n",
        "\tdistances = list()\n",
        "\tfor train_row in train:\n",
        "\t\tdist = euclidean_distance(test_row, train_row)\n",
        "\t\tdistances.append((train_row, dist))\n",
        "\tdistances.sort(key=lambda tup: tup[1])\n",
        "\tneighbors = list()\n",
        "\tfor i in range(num_neighbors):\n",
        "\t\tneighbors.append(distances[i][0])\n",
        "\treturn neighbors"
      ],
      "execution_count": 2,
      "outputs": []
    },
    {
      "cell_type": "code",
      "metadata": {
        "id": "fGWbQ4AGfs9R"
      },
      "source": [
        "# Make a classification prediction with neighbors\n",
        "# - test_row is [7,6,5,5,6,7]\n",
        "# - num_neighbors is 3\n",
        "def predict_classification(train, test_row, num_neighbors):\n",
        "\tneighbors = get_neighbors(train, test_row, num_neighbors)\n",
        "\toutput_values = [row[-1] for row in neighbors]\n",
        "\tprediction = max(set(output_values), key=output_values.count)\n",
        "\treturn prediction"
      ],
      "execution_count": null,
      "outputs": []
    },
    {
      "cell_type": "code",
      "metadata": {
        "id": "y5NbSCtYlKXw"
      },
      "source": [
        "# Test distance function\n",
        "dataset = [[1,2,3,2,1,3,0],\n",
        "\t[2,1,3,3,1,2,0],\n",
        "\t[1,1,2,3,2,2,0],\n",
        "\t[2,2,3,3,2,1,0],\n",
        "\t[6,5,7,5,6,7,1],\n",
        "\t[5,6,6,6,5,7,1],\n",
        "\t[5,6,7,6,5,6,1],\n",
        "\t[7,6,7,6,5,6,1]]"
      ],
      "execution_count": null,
      "outputs": []
    },
    {
      "cell_type": "code",
      "metadata": {
        "colab": {
          "base_uri": "https://localhost:8080/"
        },
        "id": "E5ne7J023l5G",
        "outputId": "2424f870-297f-4c73-b4a7-ea212c67b986"
      },
      "source": [
        "prediction = predict_classification(dataset, [7,6,5,5,6,7], 3)\n",
        "# - Display\n",
        "# Expected 0, Got 1.\n",
        "print('Expected %d, Got %d.' % ([7,6,5,5,6,7,1][-1], prediction))"
      ],
      "execution_count": null,
      "outputs": [
        {
          "output_type": "stream",
          "text": [
            "Expected 1, Got 1.\n"
          ],
          "name": "stdout"
        }
      ]
    }
  ]
}